{
  "nbformat": 4,
  "nbformat_minor": 0,
  "metadata": {
    "colab": {
      "provenance": [],
      "collapsed_sections": [
        "vncDsAP0Gaoa",
        "FJNUwmbgGyua",
        "w6K7xa23Elo4",
        "yQaldy8SH6Dl",
        "mDgbUHAGgjLW",
        "O_i_v8NEhb9l",
        "HhfV-JJviCcP",
        "Y3lxredqlCYt",
        "3RnN4peoiCZX",
        "x71ZqKXriCWQ",
        "7hBIi_osiCS2",
        "JlHwYmJAmNHm",
        "35m5QtbWiB9F",
        "PoPl-ycgm1ru",
        "H0kj-8xxnORC",
        "nA9Y7ga8ng1Z",
        "PBTbrJXOngz2",
        "u3PMJOP6ngxN",
        "dauF4eBmngu3",
        "bKJF3rekwFvQ",
        "MSa1f5Uengrz",
        "GF8Ens_Soomf",
        "0wOQAZs5pc--",
        "K5QZ13OEpz2H",
        "lQ7QKXXCp7Bj",
        "448CDAPjqfQr",
        "KSlN3yHqYklG",
        "t6dVpIINYklI",
        "ijmpgYnKYklI",
        "-JiQyfWJYklI",
        "EM7whBJCYoAo",
        "fge-S5ZAYoAp",
        "85gYPyotYoAp",
        "RoGjAbkUYoAp",
        "4Of9eVA-YrdM",
        "iky9q4vBYrdO",
        "F6T5p64dYrdO",
        "y-Ehk30pYrdP",
        "bamQiAODYuh1",
        "QHF8YVU7Yuh3",
        "GwzvFGzlYuh3",
        "qYpmQ266Yuh3",
        "OH-pJp9IphqM",
        "bbFf2-_FphqN",
        "_ouA3fa0phqN",
        "Seke61FWphqN",
        "PIIx-8_IphqN",
        "t27r6nlMphqO",
        "r2jJGEOYphqO",
        "b0JNsNcRphqO",
        "BZR9WyysphqO",
        "jj7wYXLtphqO",
        "eZrbJ2SmphqO",
        "rFu4xreNphqO",
        "YJ55k-q6phqO",
        "gCFgpxoyphqP",
        "OVtJsKN_phqQ",
        "lssrdh5qphqQ",
        "U2RJ9gkRphqQ",
        "1M8mcRywphqQ",
        "tgIPom80phqQ",
        "JMzcOPDDphqR",
        "x-EpHcCOp1ci",
        "X_VqEhTip1ck",
        "8zGJKyg5p1ck",
        "PVzmfK_Ep1ck",
        "n3dbpmDWp1ck",
        "ylSl6qgtp1ck",
        "ZWILFDl5p1ck",
        "M7G43BXep1ck",
        "Ag9LCva-p1cl",
        "E6MkPsBcp1cl",
        "2cELzS2fp1cl",
        "3MPXvC8up1cl",
        "NC_X3p0fY2L0",
        "UV0SzAkaZNRQ",
        "YPEH6qLeZNRQ",
        "q29F0dvdveiT",
        "EXh0U9oCveiU",
        "22aHeOlLveiV",
        "g-ATYxFrGrvw",
        "Yfr_Vlr8HBkt",
        "8yEUt7NnHlrM",
        "tEA2Xm5dHt1r",
        "I79__PHVH19G",
        "Ou-I18pAyIpj",
        "fF3858GYyt-u",
        "4_0_7-oCpUZd",
        "hwyV_J3ipUZe",
        "3yB-zSqbpUZe",
        "dEUvejAfpUZe",
        "Fd15vwWVpUZf",
        "bn_IUdTipZyH",
        "49K5P_iCpZyH",
        "Nff-vKELpZyI",
        "kLW572S8pZyI",
        "dWbDXHzopZyI",
        "yLjJCtPM0KBk",
        "xiyOF9F70UgQ",
        "7wuGOrhz0itI",
        "id1riN9m0vUs",
        "578E2V7j08f6",
        "89xtkJwZ18nB",
        "67NQN5KX2AMe",
        "Iwf50b-R2tYG",
        "GMQiZwjn3iu7",
        "WVIkgGqN3qsr",
        "XkPnILGE3zoT",
        "Hlsf0x5436Go",
        "mT9DMSJo4nBL",
        "c49ITxTc407N",
        "OeJFEK0N496M",
        "9ExmJH0g5HBk",
        "cJNqERVU536h",
        "k5UmGsbsOxih",
        "T0VqWOYE6DLQ",
        "qBMux9mC6MCf",
        "-oLEiFgy-5Pf",
        "C74aWNz2AliB",
        "2DejudWSA-a0",
        "pEMng2IbBLp7",
        "rAdphbQ9Bhjc",
        "TNVZ9zx19K6k",
        "nqoHp30x9hH9",
        "rMDnDkt2B6du",
        "yiiVWRdJDDil",
        "1UUpS68QDMuG",
        "kexQrXU-DjzY",
        "T5CmagL3EC8N",
        "BhH2vgX9EjGr",
        "qjKvONjwE8ra",
        "P1XJ9OREExlT",
        "VFOzZv6IFROw",
        "TIqpNgepFxVj",
        "VfCC591jGiD4",
        "OB4l2ZhMeS1U",
        "ArJBuiUVfxKd",
        "4qY1EAkEfxKe",
        "PiV4Ypx8fxKe",
        "TfvqoZmBfxKf",
        "dJ2tPlVmpsJ0",
        "JWYfwnehpsJ1",
        "-jK_YjpMpsJ2",
        "HAih1iBOpsJ2",
        "zVGeBEFhpsJ2",
        "bmKjuQ-FpsJ3",
        "Fze-IPXLpx6K",
        "7AN1z2sKpx6M",
        "9PIHJqyupx6M",
        "_-qAgymDpx6N",
        "Z-hykwinpx6N",
        "h_CCil-SKHpo",
        "cBFFvTBNJzUa",
        "HvGl1hHyA_VK",
        "EyNgTHvd2WFk",
        "KH5McJBi2d8v",
        "iW_Lq9qf2h6X",
        "-Kee-DAl2viO",
        "gCX9965dhzqZ",
        "gIfDvo9L0UH2"
      ],
      "cell_execution_strategy": "setup",
      "include_colab_link": true
    },
    "kernelspec": {
      "name": "python3",
      "display_name": "Python 3"
    },
    "language_info": {
      "name": "python"
    }
  },
  "cells": [
    {
      "cell_type": "markdown",
      "metadata": {
        "id": "view-in-github",
        "colab_type": "text"
      },
      "source": [
        "<a href=\"https://colab.research.google.com/github/saha-trideep/Gastronomical-Insights-Analyzing-Zomato-Restaurant-Data-Clustering-Patterns-and-Predicting-Costs/blob/main/Zomato_Model_Building.ipynb\" target=\"_parent\"><img src=\"https://colab.research.google.com/assets/colab-badge.svg\" alt=\"Open In Colab\"/></a>"
      ]
    },
    {
      "cell_type": "markdown",
      "source": [
        "# **Project Name**    -\n",
        "\n"
      ],
      "metadata": {
        "id": "vncDsAP0Gaoa"
      }
    },
    {
      "cell_type": "markdown",
      "source": [
        "##### **Project Type**    - Regression/Unsupervised\n",
        "##### **Contribution**    - Trideep Saha\n"
      ],
      "metadata": {
        "id": "beRrZCGUAJYm"
      }
    },
    {
      "cell_type": "markdown",
      "source": [
        "# **Project Summary -**"
      ],
      "metadata": {
        "id": "FJNUwmbgGyua"
      }
    },
    {
      "cell_type": "markdown",
      "source": [
        "This project aimed to predict the cost of a restaurant based on various features such as rating, number of pictures, number of reviews, score, and cuisines. The dataset was preprocessed by handling missing values, encoding categorical variables, and scaling numerical features. Various machine learning regression models were trained and evaluated, including Random Forest Regressor, Linear Regression, Decision Tree Regressor, and Gradient Boosting Regressor. Hyperparameter tuning was performed using GridSearchCV and RandomizedSearchCV to optimize the performance of the models. The Gradient Boosting Regressor with optimized hyperparameters emerged as the best performing model,\n",
        "\n",
        "achieving an\n",
        "\n",
        "R^2 score of 0.9636,\n",
        "\n",
        " MSE of 937.4970,\n",
        "\n",
        " RMSE of 30.6186,\n",
        "\n",
        "and MAE of 12.2596\n",
        "\n",
        "on the test set. The final model was saved in a joblib file format for deployment and further use. The project successfully demonstrated the application of machine learning techniques to predict restaurant costs based on available features."
      ],
      "metadata": {
        "id": "BU8QEFkbL4CW"
      }
    },
    {
      "cell_type": "markdown",
      "source": [
        "# EDA Part - Exploring Restaurant Data for Insights, Patterns and Clustering\n",
        "\n",
        "https://colab.research.google.com/drive/1uvYxei91lxtYJ0ThrF5crfwSK3ehjw2p?usp=sharing"
      ],
      "metadata": {
        "id": "x_pFoh87Zxlu"
      }
    },
    {
      "cell_type": "markdown",
      "source": [
        "# Sentiment Analysis\n",
        "\n",
        "https://colab.research.google.com/drive/1hCvcNdj4oG5Fq-lzXCCKcgbYNV0f46dx?usp=sharing"
      ],
      "metadata": {
        "id": "aNolQEJkZ9vt"
      }
    },
    {
      "cell_type": "markdown",
      "source": [
        "# **GitHub Link -**"
      ],
      "metadata": {
        "id": "w6K7xa23Elo4"
      }
    },
    {
      "cell_type": "markdown",
      "source": [
        "https://github.com/saha-trideep/Gastronomical-Insights-Analyzing-Zomato-Restaurant-Data-Clustering-Patterns-and-Predicting-Costs.git"
      ],
      "metadata": {
        "id": "h1o69JH3Eqqn"
      }
    },
    {
      "cell_type": "markdown",
      "source": [
        "# **Problem Statement**\n"
      ],
      "metadata": {
        "id": "yQaldy8SH6Dl"
      }
    },
    {
      "cell_type": "markdown",
      "source": [
        "In the dynamic landscape of the Indian restaurant industry, Zomato, a leading restaurant aggregator and food delivery platform, plays a pivotal role in connecting customers with diverse culinary experiences. With the growing significance of dining out and food delivery services, understanding customer sentiments and strategically segmenting restaurants becomes imperative for both customer satisfaction and business growth.\n",
        "\n",
        "Objective:\n",
        "\n",
        "* The primary objective of this project is to analyze the Zomato restaurant data for various cities in India, focusing on customers' sentiments through reviews and clustering restaurants into distinct segments. By leveraging data-driven insights, the project aims to provide valuable conclusions, visualizations, and solutions to address key aspects for both customers and the company.\n",
        "\n",
        "Key Components:\n",
        "\n",
        "* Sentiment Analysis:\n",
        "\n",
        " Evaluate the sentiments expressed in customer reviews to understand their experiences with different restaurants.\n",
        "Visualize sentiment trends across cities, cuisines, and restaurant types for actionable insights.\n",
        "\n",
        "* Clustering Restaurants:\n",
        "\n",
        " Implement clustering techniques to categorize Zomato restaurants into meaningful segments based on various features such as cuisine, cost, and customer ratings.\n",
        "Identify patterns and trends within each cluster to assist customers in finding the best-suited restaurants.\n",
        "\n",
        "* Cost vs. Benefit Analysis:\n",
        "\n",
        " Utilize information on cuisine and costing to perform a cost vs. benefit analysis, aiding both customers and the company in making informed decisions."
      ],
      "metadata": {
        "id": "DpeJGUA3kjGy"
      }
    },
    {
      "cell_type": "markdown",
      "source": [
        "# ***Let's Begin !***"
      ],
      "metadata": {
        "id": "O_i_v8NEhb9l"
      }
    },
    {
      "cell_type": "markdown",
      "source": [
        "## ***1. Know Your Data***"
      ],
      "metadata": {
        "id": "HhfV-JJviCcP"
      }
    },
    {
      "cell_type": "markdown",
      "source": [
        "### Import Libraries"
      ],
      "metadata": {
        "id": "Y3lxredqlCYt"
      }
    },
    {
      "cell_type": "code",
      "source": [
        "# Import Libraries\n",
        "import numpy as np\n",
        "import pandas as pd\n",
        "import matplotlib.pyplot as plt\n",
        "import seaborn as sns\n",
        "\n",
        "##################################\n",
        "\n",
        "from sklearn.ensemble import RandomForestRegressor\n",
        "from sklearn.linear_model import LinearRegression\n",
        "from sklearn.tree import DecisionTreeRegressor\n",
        "from sklearn.ensemble import GradientBoostingRegressor\n",
        "\n",
        "###################################\n",
        "from sklearn.metrics import r2_score, mean_squared_error,mean_absolute_error\n",
        "\n",
        "#################################\n",
        "from sklearn.model_selection import GridSearchCV\n",
        "from sklearn.model_selection import RandomizedSearchCV"
      ],
      "metadata": {
        "id": "M8Vqi-pPk-HR"
      },
      "execution_count": 1,
      "outputs": []
    },
    {
      "cell_type": "code",
      "source": [
        "# No warning\n",
        "import warnings\n",
        "warnings.filterwarnings(\"ignore\")\n"
      ],
      "metadata": {
        "id": "egsrC_PP2kyE"
      },
      "execution_count": 2,
      "outputs": []
    },
    {
      "cell_type": "markdown",
      "source": [
        "### Dataset Loading"
      ],
      "metadata": {
        "id": "3RnN4peoiCZX"
      }
    },
    {
      "cell_type": "code",
      "source": [
        "# Load Dataset\n",
        "df = pd.read_csv('/content/ZomatoModel.csv')"
      ],
      "metadata": {
        "id": "4CkvbW_SlZ_R"
      },
      "execution_count": 3,
      "outputs": []
    },
    {
      "cell_type": "markdown",
      "source": [
        "### Dataset First View"
      ],
      "metadata": {
        "id": "x71ZqKXriCWQ"
      }
    },
    {
      "cell_type": "code",
      "source": [
        "df.columns"
      ],
      "metadata": {
        "colab": {
          "base_uri": "https://localhost:8080/"
        },
        "id": "OWdUc7CQzTKf",
        "outputId": "ed7ab6ae-6337-4787-e755-6d25a8b4d807"
      },
      "execution_count": 4,
      "outputs": [
        {
          "output_type": "execute_result",
          "data": {
            "text/plain": [
              "Index(['Unnamed: 0', 'id', 'neg', 'neu', 'pos', 'compound', 'Restaurant',\n",
              "       'Reviewer', 'Review', 'Rating', 'Pictures', 'No of Reviews', 'Category',\n",
              "       'No of Followers', 'Day_of_Week', 'Month', 'Year', 'Links', 'Cost',\n",
              "       'Cuisines', 'meanshift_Cluster', 'KMeans_Cluster', 'Cleaned_Review',\n",
              "       'clean_lemmatized', 'Tokens', 'Review_Length', 'No_of_Words', 'score'],\n",
              "      dtype='object')"
            ]
          },
          "metadata": {},
          "execution_count": 4
        }
      ]
    },
    {
      "cell_type": "code",
      "source": [
        "# Dataset First Look\n",
        "selected_df = df.loc[:, ['Rating','Pictures',\n",
        "                         'No of Followers', 'Review_Length',\n",
        "                         'No of Reviews', 'Cost',\n",
        "                         'No_of_Words', 'score',\n",
        "                         'Cuisines']]\n",
        "display(selected_df.head())"
      ],
      "metadata": {
        "id": "LWNFOSvLl09H",
        "colab": {
          "base_uri": "https://localhost:8080/",
          "height": 206
        },
        "outputId": "b6586b7f-9d89-4f57-a732-75d06c6ec197"
      },
      "execution_count": 5,
      "outputs": [
        {
          "output_type": "display_data",
          "data": {
            "text/plain": [
              "   Rating  Pictures  No of Followers  Review_Length  No of Reviews   Cost  \\\n",
              "0     5.0         0                2            212              1  800.0   \n",
              "1     5.0         0                2            138              3  800.0   \n",
              "2     5.0         0                3            174              2  800.0   \n",
              "3     5.0         0                1            144              1  800.0   \n",
              "4     5.0         0                2            153              3  800.0   \n",
              "\n",
              "   No_of_Words     score                                           Cuisines  \n",
              "0           24  0.965988  Chinese, Continental, Kebab, European, South I...  \n",
              "1           14  0.936321  Chinese, Continental, Kebab, European, South I...  \n",
              "2           19  0.915974  Chinese, Continental, Kebab, European, South I...  \n",
              "3           14  0.857847  Chinese, Continental, Kebab, European, South I...  \n",
              "4           17  0.926673  Chinese, Continental, Kebab, European, South I...  "
            ],
            "text/html": [
              "\n",
              "  <div id=\"df-f610dc0e-2bfd-49c0-b1a9-90731aa84c23\" class=\"colab-df-container\">\n",
              "    <div>\n",
              "<style scoped>\n",
              "    .dataframe tbody tr th:only-of-type {\n",
              "        vertical-align: middle;\n",
              "    }\n",
              "\n",
              "    .dataframe tbody tr th {\n",
              "        vertical-align: top;\n",
              "    }\n",
              "\n",
              "    .dataframe thead th {\n",
              "        text-align: right;\n",
              "    }\n",
              "</style>\n",
              "<table border=\"1\" class=\"dataframe\">\n",
              "  <thead>\n",
              "    <tr style=\"text-align: right;\">\n",
              "      <th></th>\n",
              "      <th>Rating</th>\n",
              "      <th>Pictures</th>\n",
              "      <th>No of Followers</th>\n",
              "      <th>Review_Length</th>\n",
              "      <th>No of Reviews</th>\n",
              "      <th>Cost</th>\n",
              "      <th>No_of_Words</th>\n",
              "      <th>score</th>\n",
              "      <th>Cuisines</th>\n",
              "    </tr>\n",
              "  </thead>\n",
              "  <tbody>\n",
              "    <tr>\n",
              "      <th>0</th>\n",
              "      <td>5.0</td>\n",
              "      <td>0</td>\n",
              "      <td>2</td>\n",
              "      <td>212</td>\n",
              "      <td>1</td>\n",
              "      <td>800.0</td>\n",
              "      <td>24</td>\n",
              "      <td>0.965988</td>\n",
              "      <td>Chinese, Continental, Kebab, European, South I...</td>\n",
              "    </tr>\n",
              "    <tr>\n",
              "      <th>1</th>\n",
              "      <td>5.0</td>\n",
              "      <td>0</td>\n",
              "      <td>2</td>\n",
              "      <td>138</td>\n",
              "      <td>3</td>\n",
              "      <td>800.0</td>\n",
              "      <td>14</td>\n",
              "      <td>0.936321</td>\n",
              "      <td>Chinese, Continental, Kebab, European, South I...</td>\n",
              "    </tr>\n",
              "    <tr>\n",
              "      <th>2</th>\n",
              "      <td>5.0</td>\n",
              "      <td>0</td>\n",
              "      <td>3</td>\n",
              "      <td>174</td>\n",
              "      <td>2</td>\n",
              "      <td>800.0</td>\n",
              "      <td>19</td>\n",
              "      <td>0.915974</td>\n",
              "      <td>Chinese, Continental, Kebab, European, South I...</td>\n",
              "    </tr>\n",
              "    <tr>\n",
              "      <th>3</th>\n",
              "      <td>5.0</td>\n",
              "      <td>0</td>\n",
              "      <td>1</td>\n",
              "      <td>144</td>\n",
              "      <td>1</td>\n",
              "      <td>800.0</td>\n",
              "      <td>14</td>\n",
              "      <td>0.857847</td>\n",
              "      <td>Chinese, Continental, Kebab, European, South I...</td>\n",
              "    </tr>\n",
              "    <tr>\n",
              "      <th>4</th>\n",
              "      <td>5.0</td>\n",
              "      <td>0</td>\n",
              "      <td>2</td>\n",
              "      <td>153</td>\n",
              "      <td>3</td>\n",
              "      <td>800.0</td>\n",
              "      <td>17</td>\n",
              "      <td>0.926673</td>\n",
              "      <td>Chinese, Continental, Kebab, European, South I...</td>\n",
              "    </tr>\n",
              "  </tbody>\n",
              "</table>\n",
              "</div>\n",
              "    <div class=\"colab-df-buttons\">\n",
              "\n",
              "  <div class=\"colab-df-container\">\n",
              "    <button class=\"colab-df-convert\" onclick=\"convertToInteractive('df-f610dc0e-2bfd-49c0-b1a9-90731aa84c23')\"\n",
              "            title=\"Convert this dataframe to an interactive table.\"\n",
              "            style=\"display:none;\">\n",
              "\n",
              "  <svg xmlns=\"http://www.w3.org/2000/svg\" height=\"24px\" viewBox=\"0 -960 960 960\">\n",
              "    <path d=\"M120-120v-720h720v720H120Zm60-500h600v-160H180v160Zm220 220h160v-160H400v160Zm0 220h160v-160H400v160ZM180-400h160v-160H180v160Zm440 0h160v-160H620v160ZM180-180h160v-160H180v160Zm440 0h160v-160H620v160Z\"/>\n",
              "  </svg>\n",
              "    </button>\n",
              "\n",
              "  <style>\n",
              "    .colab-df-container {\n",
              "      display:flex;\n",
              "      gap: 12px;\n",
              "    }\n",
              "\n",
              "    .colab-df-convert {\n",
              "      background-color: #E8F0FE;\n",
              "      border: none;\n",
              "      border-radius: 50%;\n",
              "      cursor: pointer;\n",
              "      display: none;\n",
              "      fill: #1967D2;\n",
              "      height: 32px;\n",
              "      padding: 0 0 0 0;\n",
              "      width: 32px;\n",
              "    }\n",
              "\n",
              "    .colab-df-convert:hover {\n",
              "      background-color: #E2EBFA;\n",
              "      box-shadow: 0px 1px 2px rgba(60, 64, 67, 0.3), 0px 1px 3px 1px rgba(60, 64, 67, 0.15);\n",
              "      fill: #174EA6;\n",
              "    }\n",
              "\n",
              "    .colab-df-buttons div {\n",
              "      margin-bottom: 4px;\n",
              "    }\n",
              "\n",
              "    [theme=dark] .colab-df-convert {\n",
              "      background-color: #3B4455;\n",
              "      fill: #D2E3FC;\n",
              "    }\n",
              "\n",
              "    [theme=dark] .colab-df-convert:hover {\n",
              "      background-color: #434B5C;\n",
              "      box-shadow: 0px 1px 3px 1px rgba(0, 0, 0, 0.15);\n",
              "      filter: drop-shadow(0px 1px 2px rgba(0, 0, 0, 0.3));\n",
              "      fill: #FFFFFF;\n",
              "    }\n",
              "  </style>\n",
              "\n",
              "    <script>\n",
              "      const buttonEl =\n",
              "        document.querySelector('#df-f610dc0e-2bfd-49c0-b1a9-90731aa84c23 button.colab-df-convert');\n",
              "      buttonEl.style.display =\n",
              "        google.colab.kernel.accessAllowed ? 'block' : 'none';\n",
              "\n",
              "      async function convertToInteractive(key) {\n",
              "        const element = document.querySelector('#df-f610dc0e-2bfd-49c0-b1a9-90731aa84c23');\n",
              "        const dataTable =\n",
              "          await google.colab.kernel.invokeFunction('convertToInteractive',\n",
              "                                                    [key], {});\n",
              "        if (!dataTable) return;\n",
              "\n",
              "        const docLinkHtml = 'Like what you see? Visit the ' +\n",
              "          '<a target=\"_blank\" href=https://colab.research.google.com/notebooks/data_table.ipynb>data table notebook</a>'\n",
              "          + ' to learn more about interactive tables.';\n",
              "        element.innerHTML = '';\n",
              "        dataTable['output_type'] = 'display_data';\n",
              "        await google.colab.output.renderOutput(dataTable, element);\n",
              "        const docLink = document.createElement('div');\n",
              "        docLink.innerHTML = docLinkHtml;\n",
              "        element.appendChild(docLink);\n",
              "      }\n",
              "    </script>\n",
              "  </div>\n",
              "\n",
              "\n",
              "<div id=\"df-540d57b6-ed77-4eb0-85fb-4f511416f2db\">\n",
              "  <button class=\"colab-df-quickchart\" onclick=\"quickchart('df-540d57b6-ed77-4eb0-85fb-4f511416f2db')\"\n",
              "            title=\"Suggest charts\"\n",
              "            style=\"display:none;\">\n",
              "\n",
              "<svg xmlns=\"http://www.w3.org/2000/svg\" height=\"24px\"viewBox=\"0 0 24 24\"\n",
              "     width=\"24px\">\n",
              "    <g>\n",
              "        <path d=\"M19 3H5c-1.1 0-2 .9-2 2v14c0 1.1.9 2 2 2h14c1.1 0 2-.9 2-2V5c0-1.1-.9-2-2-2zM9 17H7v-7h2v7zm4 0h-2V7h2v10zm4 0h-2v-4h2v4z\"/>\n",
              "    </g>\n",
              "</svg>\n",
              "  </button>\n",
              "\n",
              "<style>\n",
              "  .colab-df-quickchart {\n",
              "      --bg-color: #E8F0FE;\n",
              "      --fill-color: #1967D2;\n",
              "      --hover-bg-color: #E2EBFA;\n",
              "      --hover-fill-color: #174EA6;\n",
              "      --disabled-fill-color: #AAA;\n",
              "      --disabled-bg-color: #DDD;\n",
              "  }\n",
              "\n",
              "  [theme=dark] .colab-df-quickchart {\n",
              "      --bg-color: #3B4455;\n",
              "      --fill-color: #D2E3FC;\n",
              "      --hover-bg-color: #434B5C;\n",
              "      --hover-fill-color: #FFFFFF;\n",
              "      --disabled-bg-color: #3B4455;\n",
              "      --disabled-fill-color: #666;\n",
              "  }\n",
              "\n",
              "  .colab-df-quickchart {\n",
              "    background-color: var(--bg-color);\n",
              "    border: none;\n",
              "    border-radius: 50%;\n",
              "    cursor: pointer;\n",
              "    display: none;\n",
              "    fill: var(--fill-color);\n",
              "    height: 32px;\n",
              "    padding: 0;\n",
              "    width: 32px;\n",
              "  }\n",
              "\n",
              "  .colab-df-quickchart:hover {\n",
              "    background-color: var(--hover-bg-color);\n",
              "    box-shadow: 0 1px 2px rgba(60, 64, 67, 0.3), 0 1px 3px 1px rgba(60, 64, 67, 0.15);\n",
              "    fill: var(--button-hover-fill-color);\n",
              "  }\n",
              "\n",
              "  .colab-df-quickchart-complete:disabled,\n",
              "  .colab-df-quickchart-complete:disabled:hover {\n",
              "    background-color: var(--disabled-bg-color);\n",
              "    fill: var(--disabled-fill-color);\n",
              "    box-shadow: none;\n",
              "  }\n",
              "\n",
              "  .colab-df-spinner {\n",
              "    border: 2px solid var(--fill-color);\n",
              "    border-color: transparent;\n",
              "    border-bottom-color: var(--fill-color);\n",
              "    animation:\n",
              "      spin 1s steps(1) infinite;\n",
              "  }\n",
              "\n",
              "  @keyframes spin {\n",
              "    0% {\n",
              "      border-color: transparent;\n",
              "      border-bottom-color: var(--fill-color);\n",
              "      border-left-color: var(--fill-color);\n",
              "    }\n",
              "    20% {\n",
              "      border-color: transparent;\n",
              "      border-left-color: var(--fill-color);\n",
              "      border-top-color: var(--fill-color);\n",
              "    }\n",
              "    30% {\n",
              "      border-color: transparent;\n",
              "      border-left-color: var(--fill-color);\n",
              "      border-top-color: var(--fill-color);\n",
              "      border-right-color: var(--fill-color);\n",
              "    }\n",
              "    40% {\n",
              "      border-color: transparent;\n",
              "      border-right-color: var(--fill-color);\n",
              "      border-top-color: var(--fill-color);\n",
              "    }\n",
              "    60% {\n",
              "      border-color: transparent;\n",
              "      border-right-color: var(--fill-color);\n",
              "    }\n",
              "    80% {\n",
              "      border-color: transparent;\n",
              "      border-right-color: var(--fill-color);\n",
              "      border-bottom-color: var(--fill-color);\n",
              "    }\n",
              "    90% {\n",
              "      border-color: transparent;\n",
              "      border-bottom-color: var(--fill-color);\n",
              "    }\n",
              "  }\n",
              "</style>\n",
              "\n",
              "  <script>\n",
              "    async function quickchart(key) {\n",
              "      const quickchartButtonEl =\n",
              "        document.querySelector('#' + key + ' button');\n",
              "      quickchartButtonEl.disabled = true;  // To prevent multiple clicks.\n",
              "      quickchartButtonEl.classList.add('colab-df-spinner');\n",
              "      try {\n",
              "        const charts = await google.colab.kernel.invokeFunction(\n",
              "            'suggestCharts', [key], {});\n",
              "      } catch (error) {\n",
              "        console.error('Error during call to suggestCharts:', error);\n",
              "      }\n",
              "      quickchartButtonEl.classList.remove('colab-df-spinner');\n",
              "      quickchartButtonEl.classList.add('colab-df-quickchart-complete');\n",
              "    }\n",
              "    (() => {\n",
              "      let quickchartButtonEl =\n",
              "        document.querySelector('#df-540d57b6-ed77-4eb0-85fb-4f511416f2db button');\n",
              "      quickchartButtonEl.style.display =\n",
              "        google.colab.kernel.accessAllowed ? 'block' : 'none';\n",
              "    })();\n",
              "  </script>\n",
              "</div>\n",
              "\n",
              "    </div>\n",
              "  </div>\n"
            ]
          },
          "metadata": {}
        }
      ]
    },
    {
      "cell_type": "markdown",
      "source": [
        "### Dataset Rows & Columns count"
      ],
      "metadata": {
        "id": "7hBIi_osiCS2"
      }
    },
    {
      "cell_type": "code",
      "source": [
        "# Dataset Rows & Columns count\n",
        "print(f'The Dataset contain {selected_df.shape[0]} number of rows\\\n",
        " and {selected_df.shape[1]} number of columns.')"
      ],
      "metadata": {
        "id": "Kllu7SJgmLij",
        "colab": {
          "base_uri": "https://localhost:8080/"
        },
        "outputId": "58335665-b97a-4f3b-8f72-63f39bf3207a"
      },
      "execution_count": 6,
      "outputs": [
        {
          "output_type": "stream",
          "name": "stdout",
          "text": [
            "The Dataset contain 9954 number of rows and 9 number of columns.\n"
          ]
        }
      ]
    },
    {
      "cell_type": "markdown",
      "source": [
        "### Dataset Information"
      ],
      "metadata": {
        "id": "JlHwYmJAmNHm"
      }
    },
    {
      "cell_type": "code",
      "source": [
        "# Dataset Info\n",
        "selected_df.info()"
      ],
      "metadata": {
        "id": "e9hRXRi6meOf",
        "colab": {
          "base_uri": "https://localhost:8080/"
        },
        "outputId": "dfd95b43-a1b6-4d77-c6b0-819b130398d2"
      },
      "execution_count": 7,
      "outputs": [
        {
          "output_type": "stream",
          "name": "stdout",
          "text": [
            "<class 'pandas.core.frame.DataFrame'>\n",
            "RangeIndex: 9954 entries, 0 to 9953\n",
            "Data columns (total 9 columns):\n",
            " #   Column           Non-Null Count  Dtype  \n",
            "---  ------           --------------  -----  \n",
            " 0   Rating           9954 non-null   float64\n",
            " 1   Pictures         9954 non-null   int64  \n",
            " 2   No of Followers  9954 non-null   int64  \n",
            " 3   Review_Length    9954 non-null   int64  \n",
            " 4   No of Reviews    9954 non-null   int64  \n",
            " 5   Cost             9954 non-null   float64\n",
            " 6   No_of_Words      9954 non-null   int64  \n",
            " 7   score            9954 non-null   float64\n",
            " 8   Cuisines         9954 non-null   object \n",
            "dtypes: float64(3), int64(5), object(1)\n",
            "memory usage: 700.0+ KB\n"
          ]
        }
      ]
    },
    {
      "cell_type": "markdown",
      "source": [
        "#### Duplicate Values"
      ],
      "metadata": {
        "id": "35m5QtbWiB9F"
      }
    },
    {
      "cell_type": "code",
      "source": [
        "# Dataset Duplicate Value Count\n",
        "duplicate_rows = selected_df[selected_df.duplicated()]\n",
        "print(f'Dataset Duplicate Value Count is {len(duplicate_rows)}')"
      ],
      "metadata": {
        "id": "1sLdpKYkmox0",
        "colab": {
          "base_uri": "https://localhost:8080/"
        },
        "outputId": "bdeccdb6-8ca3-4825-aee2-6ae6f1f316a5"
      },
      "execution_count": 8,
      "outputs": [
        {
          "output_type": "stream",
          "name": "stdout",
          "text": [
            "Dataset Duplicate Value Count is 96\n"
          ]
        }
      ]
    },
    {
      "cell_type": "code",
      "source": [
        "# Delete Duplicate Rows\n",
        "\n",
        "selected_df = selected_df.drop_duplicates()\n"
      ],
      "metadata": {
        "id": "MRUVDoEGK-3A"
      },
      "execution_count": 9,
      "outputs": []
    },
    {
      "cell_type": "code",
      "source": [
        "duplicate_rows = selected_df[selected_df.duplicated()]\n",
        "print(f'Dataset Duplicate Value Count is {len(duplicate_rows)}')"
      ],
      "metadata": {
        "colab": {
          "base_uri": "https://localhost:8080/"
        },
        "id": "ksH0KNndLUJW",
        "outputId": "1f932d48-e868-4222-f7ea-7f6a0029f065"
      },
      "execution_count": 10,
      "outputs": [
        {
          "output_type": "stream",
          "name": "stdout",
          "text": [
            "Dataset Duplicate Value Count is 0\n"
          ]
        }
      ]
    },
    {
      "cell_type": "markdown",
      "source": [
        "#### Missing Values/Null Values"
      ],
      "metadata": {
        "id": "PoPl-ycgm1ru"
      }
    },
    {
      "cell_type": "code",
      "source": [
        "# Missing Values/Null Values Count\n",
        "missing_value = selected_df.isna().sum()\n",
        "print(f'The Dataset contain missing value\\n{missing_value} ')"
      ],
      "metadata": {
        "id": "GgHWkxvamxVg",
        "colab": {
          "base_uri": "https://localhost:8080/"
        },
        "outputId": "184fdf4b-405a-4aa1-f37b-529112c4d9a0"
      },
      "execution_count": 11,
      "outputs": [
        {
          "output_type": "stream",
          "name": "stdout",
          "text": [
            "The Dataset contain missing value\n",
            "Rating             0\n",
            "Pictures           0\n",
            "No of Followers    0\n",
            "Review_Length      0\n",
            "No of Reviews      0\n",
            "Cost               0\n",
            "No_of_Words        0\n",
            "score              0\n",
            "Cuisines           0\n",
            "dtype: int64 \n"
          ]
        }
      ]
    },
    {
      "cell_type": "code",
      "source": [
        "# Visualizing the missing values\n",
        "import missingno as msno\n",
        "import matplotlib.pyplot as plt\n",
        "msno.matrix(selected_df)\n",
        "plt.show()"
      ],
      "metadata": {
        "id": "3q5wnI3om9sJ",
        "colab": {
          "base_uri": "https://localhost:8080/",
          "height": 568
        },
        "outputId": "230b7bd3-901e-49dc-80de-025f0aaeb801"
      },
      "execution_count": 12,
      "outputs": [
        {
          "output_type": "display_data",
          "data": {
            "text/plain": [
              "<Figure size 2500x1000 with 2 Axes>"
            ],
            "image/png": "[encoded data removed]"
          },
          "metadata": {}
        }
      ]
    },
    {
      "cell_type": "markdown",
      "source": [
        "####Summary Statistics"
      ],
      "metadata": {
        "id": "vzJ7UHA_BwzS"
      }
    },
    {
      "cell_type": "code",
      "source": [
        "# summary statistics\n",
        "selected_df.describe().T\n"
      ],
      "metadata": {
        "colab": {
          "base_uri": "https://localhost:8080/",
          "height": 300
        },
        "id": "-JRi1Yy4B60n",
        "outputId": "2c25f8d0-6eee-4e2d-a506-dbe2531aafb0"
      },
      "execution_count": 13,
      "outputs": [
        {
          "output_type": "execute_result",
          "data": {
            "text/plain": [
              "                  count        mean         std      min         25%  \\\n",
              "Rating           9858.0    3.587543    1.484797  1.00000    3.000000   \n",
              "Pictures         9858.0    0.759282    2.587257  0.00000    0.000000   \n",
              "No of Followers  9858.0  164.707141  622.986558  0.00000    1.000000   \n",
              "Review_Length    9858.0  270.873605  325.538227  0.00000  139.000000   \n",
              "No of Reviews    9858.0   24.226618   50.828382  0.00000    1.000000   \n",
              "Cost             9858.0  346.897038  306.580516  1.00000    1.500000   \n",
              "No_of_Words      9858.0   27.661595   32.447401  0.00000   14.000000   \n",
              "score            9858.0    0.536438    0.529824 -0.97612    0.327017   \n",
              "\n",
              "                        50%         75%           max  \n",
              "Rating             4.000000    5.000000      5.000000  \n",
              "Pictures           0.000000    0.000000     64.000000  \n",
              "No of Followers    7.000000   64.000000  13410.000000  \n",
              "Review_Length    183.000000  310.000000   5084.000000  \n",
              "No of Reviews      5.000000   22.000000   1031.000000  \n",
              "Cost             400.000000  600.000000    900.000000  \n",
              "No_of_Words       19.000000   31.000000    580.000000  \n",
              "score              0.797781    0.936123      0.999183  "
            ],
            "text/html": [
              "\n",
              "  <div id=\"df-b8d50489-6da6-40de-af0c-913794890d3a\" class=\"colab-df-container\">\n",
              "    <div>\n",
              "<style scoped>\n",
              "    .dataframe tbody tr th:only-of-type {\n",
              "        vertical-align: middle;\n",
              "    }\n",
              "\n",
              "    .dataframe tbody tr th {\n",
              "        vertical-align: top;\n",
              "    }\n",
              "\n",
              "    .dataframe thead th {\n",
              "        text-align: right;\n",
              "    }\n",
              "</style>\n",
              "<table border=\"1\" class=\"dataframe\">\n",
              "  <thead>\n",
              "    <tr style=\"text-align: right;\">\n",
              "      <th></th>\n",
              "      <th>count</th>\n",
              "      <th>mean</th>\n",
              "      <th>std</th>\n",
              "      <th>min</th>\n",
              "      <th>25%</th>\n",
              "      <th>50%</th>\n",
              "      <th>75%</th>\n",
              "      <th>max</th>\n",
              "    </tr>\n",
              "  </thead>\n",
              "  <tbody>\n",
              "    <tr>\n",
              "      <th>Rating</th>\n",
              "      <td>9858.0</td>\n",
              "      <td>3.587543</td>\n",
              "      <td>1.484797</td>\n",
              "      <td>1.00000</td>\n",
              "      <td>3.000000</td>\n",
              "      <td>4.000000</td>\n",
              "      <td>5.000000</td>\n",
              "      <td>5.000000</td>\n",
              "    </tr>\n",
              "    <tr>\n",
              "      <th>Pictures</th>\n",
              "      <td>9858.0</td>\n",
              "      <td>0.759282</td>\n",
              "      <td>2.587257</td>\n",
              "      <td>0.00000</td>\n",
              "      <td>0.000000</td>\n",
              "      <td>0.000000</td>\n",
              "      <td>0.000000</td>\n",
              "      <td>64.000000</td>\n",
              "    </tr>\n",
              "    <tr>\n",
              "      <th>No of Followers</th>\n",
              "      <td>9858.0</td>\n",
              "      <td>164.707141</td>\n",
              "      <td>622.986558</td>\n",
              "      <td>0.00000</td>\n",
              "      <td>1.000000</td>\n",
              "      <td>7.000000</td>\n",
              "      <td>64.000000</td>\n",
              "      <td>13410.000000</td>\n",
              "    </tr>\n",
              "    <tr>\n",
              "      <th>Review_Length</th>\n",
              "      <td>9858.0</td>\n",
              "      <td>270.873605</td>\n",
              "      <td>325.538227</td>\n",
              "      <td>0.00000</td>\n",
              "      <td>139.000000</td>\n",
              "      <td>183.000000</td>\n",
              "      <td>310.000000</td>\n",
              "      <td>5084.000000</td>\n",
              "    </tr>\n",
              "    <tr>\n",
              "      <th>No of Reviews</th>\n",
              "      <td>9858.0</td>\n",
              "      <td>24.226618</td>\n",
              "      <td>50.828382</td>\n",
              "      <td>0.00000</td>\n",
              "      <td>1.000000</td>\n",
              "      <td>5.000000</td>\n",
              "      <td>22.000000</td>\n",
              "      <td>1031.000000</td>\n",
              "    </tr>\n",
              "    <tr>\n",
              "      <th>Cost</th>\n",
              "      <td>9858.0</td>\n",
              "      <td>346.897038</td>\n",
              "      <td>306.580516</td>\n",
              "      <td>1.00000</td>\n",
              "      <td>1.500000</td>\n",
              "      <td>400.000000</td>\n",
              "      <td>600.000000</td>\n",
              "      <td>900.000000</td>\n",
              "    </tr>\n",
              "    <tr>\n",
              "      <th>No_of_Words</th>\n",
              "      <td>9858.0</td>\n",
              "      <td>27.661595</td>\n",
              "      <td>32.447401</td>\n",
              "      <td>0.00000</td>\n",
              "      <td>14.000000</td>\n",
              "      <td>19.000000</td>\n",
              "      <td>31.000000</td>\n",
              "      <td>580.000000</td>\n",
              "    </tr>\n",
              "    <tr>\n",
              "      <th>score</th>\n",
              "      <td>9858.0</td>\n",
              "      <td>0.536438</td>\n",
              "      <td>0.529824</td>\n",
              "      <td>-0.97612</td>\n",
              "      <td>0.327017</td>\n",
              "      <td>0.797781</td>\n",
              "      <td>0.936123</td>\n",
              "      <td>0.999183</td>\n",
              "    </tr>\n",
              "  </tbody>\n",
              "</table>\n",
              "</div>\n",
              "    <div class=\"colab-df-buttons\">\n",
              "\n",
              "  <div class=\"colab-df-container\">\n",
              "    <button class=\"colab-df-convert\" onclick=\"convertToInteractive('df-b8d50489-6da6-40de-af0c-913794890d3a')\"\n",
              "            title=\"Convert this dataframe to an interactive table.\"\n",
              "            style=\"display:none;\">\n",
              "\n",
              "  <svg xmlns=\"http://www.w3.org/2000/svg\" height=\"24px\" viewBox=\"0 -960 960 960\">\n",
              "    <path d=\"M120-120v-720h720v720H120Zm60-500h600v-160H180v160Zm220 220h160v-160H400v160Zm0 220h160v-160H400v160ZM180-400h160v-160H180v160Zm440 0h160v-160H620v160ZM180-180h160v-160H180v160Zm440 0h160v-160H620v160Z\"/>\n",
              "  </svg>\n",
              "    </button>\n",
              "\n",
              "  <style>\n",
              "    .colab-df-container {\n",
              "      display:flex;\n",
              "      gap: 12px;\n",
              "    }\n",
              "\n",
              "    .colab-df-convert {\n",
              "      background-color: #E8F0FE;\n",
              "      border: none;\n",
              "      border-radius: 50%;\n",
              "      cursor: pointer;\n",
              "      display: none;\n",
              "      fill: #1967D2;\n",
              "      height: 32px;\n",
              "      padding: 0 0 0 0;\n",
              "      width: 32px;\n",
              "    }\n",
              "\n",
              "    .colab-df-convert:hover {\n",
              "      background-color: #E2EBFA;\n",
              "      box-shadow: 0px 1px 2px rgba(60, 64, 67, 0.3), 0px 1px 3px 1px rgba(60, 64, 67, 0.15);\n",
              "      fill: #174EA6;\n",
              "    }\n",
              "\n",
              "    .colab-df-buttons div {\n",
              "      margin-bottom: 4px;\n",
              "    }\n",
              "\n",
              "    [theme=dark] .colab-df-convert {\n",
              "      background-color: #3B4455;\n",
              "      fill: #D2E3FC;\n",
              "    }\n",
              "\n",
              "    [theme=dark] .colab-df-convert:hover {\n",
              "      background-color: #434B5C;\n",
              "      box-shadow: 0px 1px 3px 1px rgba(0, 0, 0, 0.15);\n",
              "      filter: drop-shadow(0px 1px 2px rgba(0, 0, 0, 0.3));\n",
              "      fill: #FFFFFF;\n",
              "    }\n",
              "  </style>\n",
              "\n",
              "    <script>\n",
              "      const buttonEl =\n",
              "        document.querySelector('#df-b8d50489-6da6-40de-af0c-913794890d3a button.colab-df-convert');\n",
              "      buttonEl.style.display =\n",
              "        google.colab.kernel.accessAllowed ? 'block' : 'none';\n",
              "\n",
              "      async function convertToInteractive(key) {\n",
              "        const element = document.querySelector('#df-b8d50489-6da6-40de-af0c-913794890d3a');\n",
              "        const dataTable =\n",
              "          await google.colab.kernel.invokeFunction('convertToInteractive',\n",
              "                                                    [key], {});\n",
              "        if (!dataTable) return;\n",
              "\n",
              "        const docLinkHtml = 'Like what you see? Visit the ' +\n",
              "          '<a target=\"_blank\" href=https://colab.research.google.com/notebooks/data_table.ipynb>data table notebook</a>'\n",
              "          + ' to learn more about interactive tables.';\n",
              "        element.innerHTML = '';\n",
              "        dataTable['output_type'] = 'display_data';\n",
              "        await google.colab.output.renderOutput(dataTable, element);\n",
              "        const docLink = document.createElement('div');\n",
              "        docLink.innerHTML = docLinkHtml;\n",
              "        element.appendChild(docLink);\n",
              "      }\n",
              "    </script>\n",
              "  </div>\n",
              "\n",
              "\n",
              "<div id=\"df-7b4d91ab-a955-4c23-b4a5-8473e8eb4f76\">\n",
              "  <button class=\"colab-df-quickchart\" onclick=\"quickchart('df-7b4d91ab-a955-4c23-b4a5-8473e8eb4f76')\"\n",
              "            title=\"Suggest charts\"\n",
              "            style=\"display:none;\">\n",
              "\n",
              "<svg xmlns=\"http://www.w3.org/2000/svg\" height=\"24px\"viewBox=\"0 0 24 24\"\n",
              "     width=\"24px\">\n",
              "    <g>\n",
              "        <path d=\"M19 3H5c-1.1 0-2 .9-2 2v14c0 1.1.9 2 2 2h14c1.1 0 2-.9 2-2V5c0-1.1-.9-2-2-2zM9 17H7v-7h2v7zm4 0h-2V7h2v10zm4 0h-2v-4h2v4z\"/>\n",
              "    </g>\n",
              "</svg>\n",
              "  </button>\n",
              "\n",
              "<style>\n",
              "  .colab-df-quickchart {\n",
              "      --bg-color: #E8F0FE;\n",
              "      --fill-color: #1967D2;\n",
              "      --hover-bg-color: #E2EBFA;\n",
              "      --hover-fill-color: #174EA6;\n",
              "      --disabled-fill-color: #AAA;\n",
              "      --disabled-bg-color: #DDD;\n",
              "  }\n",
              "\n",
              "  [theme=dark] .colab-df-quickchart {\n",
              "      --bg-color: #3B4455;\n",
              "      --fill-color: #D2E3FC;\n",
              "      --hover-bg-color: #434B5C;\n",
              "      --hover-fill-color: #FFFFFF;\n",
              "      --disabled-bg-color: #3B4455;\n",
              "      --disabled-fill-color: #666;\n",
              "  }\n",
              "\n",
              "  .colab-df-quickchart {\n",
              "    background-color: var(--bg-color);\n",
              "    border: none;\n",
              "    border-radius: 50%;\n",
              "    cursor: pointer;\n",
              "    display: none;\n",
              "    fill: var(--fill-color);\n",
              "    height: 32px;\n",
              "    padding: 0;\n",
              "    width: 32px;\n",
              "  }\n",
              "\n",
              "  .colab-df-quickchart:hover {\n",
              "    background-color: var(--hover-bg-color);\n",
              "    box-shadow: 0 1px 2px rgba(60, 64, 67, 0.3), 0 1px 3px 1px rgba(60, 64, 67, 0.15);\n",
              "    fill: var(--button-hover-fill-color);\n",
              "  }\n",
              "\n",
              "  .colab-df-quickchart-complete:disabled,\n",
              "  .colab-df-quickchart-complete:disabled:hover {\n",
              "    background-color: var(--disabled-bg-color);\n",
              "    fill: var(--disabled-fill-color);\n",
              "    box-shadow: none;\n",
              "  }\n",
              "\n",
              "  .colab-df-spinner {\n",
              "    border: 2px solid var(--fill-color);\n",
              "    border-color: transparent;\n",
              "    border-bottom-color: var(--fill-color);\n",
              "    animation:\n",
              "      spin 1s steps(1) infinite;\n",
              "  }\n",
              "\n",
              "  @keyframes spin {\n",
              "    0% {\n",
              "      border-color: transparent;\n",
              "      border-bottom-color: var(--fill-color);\n",
              "      border-left-color: var(--fill-color);\n",
              "    }\n",
              "    20% {\n",
              "      border-color: transparent;\n",
              "      border-left-color: var(--fill-color);\n",
              "      border-top-color: var(--fill-color);\n",
              "    }\n",
              "    30% {\n",
              "      border-color: transparent;\n",
              "      border-left-color: var(--fill-color);\n",
              "      border-top-color: var(--fill-color);\n",
              "      border-right-color: var(--fill-color);\n",
              "    }\n",
              "    40% {\n",
              "      border-color: transparent;\n",
              "      border-right-color: var(--fill-color);\n",
              "      border-top-color: var(--fill-color);\n",
              "    }\n",
              "    60% {\n",
              "      border-color: transparent;\n",
              "      border-right-color: var(--fill-color);\n",
              "    }\n",
              "    80% {\n",
              "      border-color: transparent;\n",
              "      border-right-color: var(--fill-color);\n",
              "      border-bottom-color: var(--fill-color);\n",
              "    }\n",
              "    90% {\n",
              "      border-color: transparent;\n",
              "      border-bottom-color: var(--fill-color);\n",
              "    }\n",
              "  }\n",
              "</style>\n",
              "\n",
              "  <script>\n",
              "    async function quickchart(key) {\n",
              "      const quickchartButtonEl =\n",
              "        document.querySelector('#' + key + ' button');\n",
              "      quickchartButtonEl.disabled = true;  // To prevent multiple clicks.\n",
              "      quickchartButtonEl.classList.add('colab-df-spinner');\n",
              "      try {\n",
              "        const charts = await google.colab.kernel.invokeFunction(\n",
              "            'suggestCharts', [key], {});\n",
              "      } catch (error) {\n",
              "        console.error('Error during call to suggestCharts:', error);\n",
              "      }\n",
              "      quickchartButtonEl.classList.remove('colab-df-spinner');\n",
              "      quickchartButtonEl.classList.add('colab-df-quickchart-complete');\n",
              "    }\n",
              "    (() => {\n",
              "      let quickchartButtonEl =\n",
              "        document.querySelector('#df-7b4d91ab-a955-4c23-b4a5-8473e8eb4f76 button');\n",
              "      quickchartButtonEl.style.display =\n",
              "        google.colab.kernel.accessAllowed ? 'block' : 'none';\n",
              "    })();\n",
              "  </script>\n",
              "</div>\n",
              "\n",
              "    </div>\n",
              "  </div>\n"
            ]
          },
          "metadata": {},
          "execution_count": 13
        }
      ]
    },
    {
      "cell_type": "markdown",
      "source": [
        "### What did you know about your dataset?"
      ],
      "metadata": {
        "id": "H0kj-8xxnORC"
      }
    },
    {
      "cell_type": "markdown",
      "source": [
        "**Numerical Features**:\n",
        "\n",
        "* Rating: A numerical feature representing the rating given to the restaurant.\n",
        "* No of Followers: Number of followers of the reviewer.\n",
        "* Pictures: Number of pictures attached to the review\n",
        "* No of Reviews: A numerical feature representing the number of reviews.\n",
        "* Cost: The target variable, a numerical feature representing the cost.\n",
        "* score: A numerical feature representing the overall sentiment score.\n",
        "\n",
        "**Categorical Feature**:\n",
        "\n",
        "* Cuisines: An object feature representing the types of cuisines.\n",
        "\n",
        "**Data Types**:\n",
        "\n",
        "* float64: Data type for numerical features.\n",
        "* int64: Data type for the 'No of Reviews' column.\n",
        "* object: Data type for the 'Cuisines' column string\n",
        "\n",
        "**Null Values**:\n",
        "\n",
        "* No null values reported for the mentioned columns.\n",
        "\n",
        "\n"
      ],
      "metadata": {
        "id": "gfoNAAC-nUe_"
      }
    },
    {
      "cell_type": "markdown",
      "source": [
        "## ***2. Data Pre-processing***"
      ],
      "metadata": {
        "id": "yLjJCtPM0KBk"
      }
    },
    {
      "cell_type": "markdown",
      "source": [
        "### 1. Handling Outliers"
      ],
      "metadata": {
        "id": "id1riN9m0vUs"
      }
    },
    {
      "cell_type": "markdown",
      "source": [
        "####**Cost**"
      ],
      "metadata": {
        "id": "85j__9mTNA-M"
      }
    },
    {
      "cell_type": "code",
      "source": [
        "# Handling Outliers & Outlier treatments\n",
        "import seaborn as sns\n",
        "import matplotlib.pyplot as plt\n",
        "\n",
        "# Box plot for 'Cost'\n",
        "plt.figure(figsize=(6, 4))\n",
        "sns.boxplot(x=selected_df['Cost'])\n",
        "plt.title('Box Plot of Cost')\n",
        "plt.show()\n"
      ],
      "metadata": {
        "id": "M6w2CzZf04JK",
        "colab": {
          "base_uri": "https://localhost:8080/",
          "height": 410
        },
        "outputId": "8c014ded-33c4-4208-f990-8a6ecaf4a6d2"
      },
      "execution_count": 14,
      "outputs": [
        {
          "output_type": "display_data",
          "data": {
            "text/plain": [
              "<Figure size 600x400 with 1 Axes>"
            ],
            "image/png": "[encoded data removed]"
          },
          "metadata": {}
        }
      ]
    },
    {
      "cell_type": "code",
      "source": [
        "#Fill low value cost with median value and plot\n",
        "\n",
        "# Calculate the median cost\n",
        "median_cost = selected_df['Cost'].median()\n",
        "\n",
        "# Identify rows\n",
        "low_cost_rows = selected_df[selected_df['Cost'] < 10]\n",
        "\n",
        "# Fill the 'Cost' column with the median value\n",
        "selected_df.loc[low_cost_rows.index, 'Cost'] = median_cost\n",
        "\n",
        "plt.figure(figsize=(6, 4))\n",
        "sns.histplot(selected_df['Cost'], kde=True, color='skyblue')\n",
        "plt.title('Distribution of Cost after Filling Low-Cost Values with Median')\n",
        "plt.xlabel('Cost')\n",
        "plt.ylabel('Frequency')\n",
        "plt.show()\n"
      ],
      "metadata": {
        "colab": {
          "base_uri": "https://localhost:8080/",
          "height": 410
        },
        "id": "5vGbo4WEHX6s",
        "outputId": "cf28979c-0187-4b68-ac1c-834d3d534dd7"
      },
      "execution_count": 15,
      "outputs": [
        {
          "output_type": "display_data",
          "data": {
            "text/plain": [
              "<Figure size 600x400 with 1 Axes>"
            ],
            "image/png": "[encoded data removed]"
          },
          "metadata": {}
        }
      ]
    },
    {
      "cell_type": "code",
      "source": [
        "from scipy.stats.mstats import winsorize\n",
        "\n",
        "# Specify the percentage of winsorization (e.g., 5% from each tail)\n",
        "winsorized_cost = winsorize(selected_df['Cost'], limits=[0.05, 0.05])\n",
        "\n",
        "# Column with the winsorized values\n",
        "selected_df['Cost_winsorized'] = winsorized_cost\n",
        "\n",
        "# Visualize the winsorized\n",
        "plt.figure(figsize=(6, 4))\n",
        "sns.boxplot(x=selected_df['Cost_winsorized'])\n",
        "plt.title('Winsorized Box Plot of Cost')\n",
        "plt.show()"
      ],
      "metadata": {
        "colab": {
          "base_uri": "https://localhost:8080/",
          "height": 410
        },
        "id": "VyMsbkzqIge5",
        "outputId": "e3b7a97d-2e9d-4a6c-ed29-f7dc7faa0574"
      },
      "execution_count": 16,
      "outputs": [
        {
          "output_type": "display_data",
          "data": {
            "text/plain": [
              "<Figure size 600x400 with 1 Axes>"
            ],
            "image/png": "[encoded data removed]"
          },
          "metadata": {}
        }
      ]
    },
    {
      "cell_type": "code",
      "source": [
        "# Drop Cost column\n",
        "selected_df = selected_df.drop('Cost', axis=1)\n"
      ],
      "metadata": {
        "id": "hstqNEfr_C0Z"
      },
      "execution_count": 17,
      "outputs": []
    },
    {
      "cell_type": "markdown",
      "source": [
        "##### What all outlier treatment techniques have you used and why did you use those techniques?"
      ],
      "metadata": {
        "id": "578E2V7j08f6"
      }
    },
    {
      "cell_type": "markdown",
      "source": [
        "**Key Techniques Applied**\n",
        "\n",
        "**Median Imputation**:\n",
        "\n",
        "* We replaced low-cost values (below 10) with the median cost, a more robust approach to outliers than mean imputation.\n",
        "\n",
        "**Winsorization**:\n",
        "\n",
        "* We applied winsorization to the \"Cost\" variable, replacing extreme values in the tails (5% from each end) with less extreme values. This reduces the impact of outliers while retaining their information.\n",
        "\n",
        "\n",
        "\n",
        "\n",
        "**Interpretations**\n",
        "\n",
        "* Median imputation is often preferred for skewed distributions or those with outliers, as it's less sensitive to extreme values.\n",
        "\n",
        "* Winsorization effectively limits the influence of extreme values on model performance and statistical analysis.\n"
      ],
      "metadata": {
        "id": "uGZz5OrT1HH-"
      }
    },
    {
      "cell_type": "markdown",
      "source": [
        "#### 2. Categorical Encoding"
      ],
      "metadata": {
        "id": "89xtkJwZ18nB"
      }
    },
    {
      "cell_type": "code",
      "source": [
        "# Encode categorical column\n",
        "from sklearn.preprocessing import LabelEncoder\n",
        "le = LabelEncoder()\n",
        "selected_df['Cuisines'] = le.fit_transform(selected_df['Cuisines'])"
      ],
      "metadata": {
        "id": "21JmIYMG2hEo"
      },
      "execution_count": 18,
      "outputs": []
    },
    {
      "cell_type": "code",
      "source": [
        "selected_df.columns"
      ],
      "metadata": {
        "colab": {
          "base_uri": "https://localhost:8080/"
        },
        "id": "D8Q-qCd8kvZW",
        "outputId": "bc2435a3-71ab-473b-9da0-349ce357338a"
      },
      "execution_count": 19,
      "outputs": [
        {
          "output_type": "execute_result",
          "data": {
            "text/plain": [
              "Index(['Rating', 'Pictures', 'No of Followers', 'Review_Length',\n",
              "       'No of Reviews', 'No_of_Words', 'score', 'Cuisines', 'Cost_winsorized'],\n",
              "      dtype='object')"
            ]
          },
          "metadata": {},
          "execution_count": 19
        }
      ]
    },
    {
      "cell_type": "markdown",
      "source": [
        "Features Selection"
      ],
      "metadata": {
        "id": "zk7QN5KSV-LB"
      }
    },
    {
      "cell_type": "code",
      "source": [
        "selected_features = ['Rating', 'Pictures',\n",
        "                     'No of Followers',\n",
        "                     'Review_Length',\n",
        "                     'No of Reviews',\n",
        "                     'No_of_Words',\n",
        "                     'score', 'Cuisines']\n",
        "\n",
        "\n",
        "X = selected_df[selected_features]\n",
        "y = selected_df['Cost_winsorized']\n"
      ],
      "metadata": {
        "id": "n6cMo0gzADJq"
      },
      "execution_count": 20,
      "outputs": []
    },
    {
      "cell_type": "code",
      "source": [
        "from sklearn.feature_selection import SelectKBest, f_regression\n",
        "\n",
        "# Define the selector\n",
        "selector = SelectKBest(f_regression, k=5)\n",
        "\n",
        "# Fit the selector to the data\n",
        "X_selected = selector.fit_transform(X, y)\n",
        "\n",
        "# Get the selected features\n",
        "selected_features = selected_df.iloc[:, :-1].columns[selector.get_support()]\n",
        "\n",
        "print(f'Selected features: {selected_features}')\n",
        "\n",
        "# Create a new DataFrame with the selected features and the target variable\n",
        "X_selected_df = pd.DataFrame(X_selected, columns=selected_features)\n",
        "y_selected_df = selected_df['Cost_winsorized']\n"
      ],
      "metadata": {
        "colab": {
          "base_uri": "https://localhost:8080/"
        },
        "id": "gjQcY3LeppuW",
        "outputId": "cef580ec-2233-4716-f535-c7090f547557"
      },
      "execution_count": 21,
      "outputs": [
        {
          "output_type": "stream",
          "name": "stdout",
          "text": [
            "Selected features: Index(['Rating', 'Pictures', 'No of Reviews', 'score', 'Cuisines'], dtype='object')\n"
          ]
        }
      ]
    },
    {
      "cell_type": "markdown",
      "source": [
        "#Explain the ML Model used and it's performance using Evaluation metric Score."
      ],
      "metadata": {
        "id": "ArJBuiUVfxKd"
      }
    },
    {
      "cell_type": "code",
      "source": [
        "# Scaling Necessary Columns\n",
        "\n",
        "from sklearn.preprocessing import MinMaxScaler\n",
        "\n",
        "scaler = MinMaxScaler()\n",
        "\n",
        "# Fit the scaler\n",
        "X_scaled = scaler.fit_transform(X_selected_df)\n",
        "\n",
        "\n",
        "# Create a new DataFrame\n",
        "X_scaled_df = pd.DataFrame(X_scaled, columns=selected_features)\n"
      ],
      "metadata": {
        "id": "w_pkhyc4Adto"
      },
      "execution_count": 22,
      "outputs": []
    },
    {
      "cell_type": "code",
      "source": [
        "# train test split\n",
        "\n",
        "from sklearn.model_selection import train_test_split\n",
        "\n",
        "X_train, X_test, y_train, y_test = train_test_split(X_scaled_df,\n",
        "                                                    y_selected_df,\n",
        "                                                    test_size=0.2,\n",
        "                                                    random_state=42)\n"
      ],
      "metadata": {
        "id": "fPYrziOtA-dB"
      },
      "execution_count": 23,
      "outputs": []
    },
    {
      "cell_type": "code",
      "source": [
        "# Define models\n",
        "models = {\n",
        "    \"Linear Regression\": LinearRegression(),\n",
        "    \"Random Forest Regressor\": RandomForestRegressor(),\n",
        "    \"Gradient Boosting Regressor\": GradientBoostingRegressor(),\n",
        "    \"Decision Tree Regressor\": DecisionTreeRegressor(),\n",
        "}\n",
        "\n",
        "\n",
        "\n",
        "# Train and evaluate each model\n",
        "for name, model in models.items():\n",
        "    model.fit(X_train, y_train)\n",
        "    y_pred = model.predict(X_test)\n",
        "\n",
        "    r2 = r2_score(y_test, y_pred)\n",
        "    mse = mean_squared_error(y_test, y_pred)\n",
        "    mae = mean_absolute_error(y_test, y_pred)\n",
        "    rmse = np.sqrt(mse)\n",
        "\n",
        "    print(f\"Model: {name}\")\n",
        "    print(f\"R^2: {r2:.4f}\")\n",
        "    print(f\"MSE: {mse:.4f}\")\n",
        "    print(f\"RMSE: {rmse}\")\n",
        "    print(f\"MAE: {mae}\")\n",
        "    print()\n",
        "\n"
      ],
      "metadata": {
        "colab": {
          "base_uri": "https://localhost:8080/"
        },
        "id": "YFYoaF1ijn9_",
        "outputId": "9ba57d8a-9008-41ce-86a5-71206062792f"
      },
      "execution_count": 24,
      "outputs": [
        {
          "output_type": "stream",
          "name": "stdout",
          "text": [
            "Model: Linear Regression\n",
            "R^2: 0.0111\n",
            "MSE: 25490.5676\n",
            "RMSE: 159.65765759141723\n",
            "MAE: 131.80261189111405\n",
            "\n",
            "Model: Random Forest Regressor\n",
            "R^2: 0.9577\n",
            "MSE: 1091.5912\n",
            "RMSE: 33.03923774264313\n",
            "MAE: 8.952875219495402\n",
            "\n",
            "Model: Gradient Boosting Regressor\n",
            "R^2: 0.8172\n",
            "MSE: 4711.6236\n",
            "RMSE: 68.64126712132902\n",
            "MAE: 53.50779428635572\n",
            "\n",
            "Model: Decision Tree Regressor\n",
            "R^2: 0.9406\n",
            "MSE: 1530.3784\n",
            "RMSE: 39.12005141766678\n",
            "MAE: 8.766480730223124\n",
            "\n"
          ]
        }
      ]
    },
    {
      "cell_type": "markdown",
      "source": [
        "####Hyperparameter Tuning & Cross- Validation"
      ],
      "metadata": {
        "id": "4qY1EAkEfxKe"
      }
    },
    {
      "cell_type": "markdown",
      "source": [
        "GridSearchCV for the GradientBoostingRegressor"
      ],
      "metadata": {
        "id": "14gA_QavWhu_"
      }
    },
    {
      "cell_type": "code",
      "source": [
        "# Define the model\n",
        "model = GradientBoostingRegressor()\n",
        "\n",
        "\n",
        "# Define the hyperparameter grid\n",
        "param_grid = {\n",
        "    'learning_rate': [0.1, 0.5, 1],\n",
        "    'n_estimators': [50, 100, 150],\n",
        "    'max_depth': [4, 5, 6, 7],\n",
        "    'min_samples_split': [5, 10, 15],\n",
        "    'min_samples_leaf': [1, 2, 4]\n",
        "}\n",
        "\n",
        "\n",
        "\n",
        "# Perform grid search with cross-validation\n",
        "grid_search = GridSearchCV(model, param_grid, cv=5)\n",
        "grid_search.fit(X_train, y_train)\n",
        "\n",
        "\n",
        "\n",
        "# Get the best model and its hyperparameters\n",
        "best_model = grid_search.best_estimator_\n",
        "best_params = grid_search.best_params_\n",
        "\n",
        "\n",
        "\n",
        "# Evaluate the best model on the test set\n",
        "y_pred = best_model.predict(X_test)\n",
        "\n",
        "r2 = r2_score(y_test, y_pred)\n",
        "mse = mean_squared_error(y_test, y_pred)\n",
        "mae = mean_absolute_error(y_test, y_pred)\n",
        "rmse = np.sqrt(mse)\n",
        "\n",
        "\n",
        "\n",
        "print(f\"Best Model: Gradient Boosting Regressor\")\n",
        "print(f\"Best Hyperparameters: {best_params}\")\n",
        "print(f\"R^2: {r2:.4f}\")\n",
        "print(f\"MSE: {mse:.4f}\")\n",
        "print(f\"RMSE: {rmse}\")\n",
        "print(f\"MAE: {mae}\")"
      ],
      "metadata": {
        "id": "ZzC1d7lQT9BG",
        "colab": {
          "base_uri": "https://localhost:8080/"
        },
        "outputId": "34324c93-b80b-47a9-b2c6-1b3d9151ec62"
      },
      "execution_count": 25,
      "outputs": [
        {
          "output_type": "stream",
          "name": "stdout",
          "text": [
            "Best Model: Gradient Boosting Regressor\n",
            "Best Hyperparameters: {'learning_rate': 0.1, 'max_depth': 7, 'min_samples_leaf': 2, 'min_samples_split': 10, 'n_estimators': 100}\n",
            "R^2: 0.9636\n",
            "MSE: 937.4970\n",
            "RMSE: 30.61857210739251\n",
            "MAE: 12.259648314735092\n"
          ]
        }
      ]
    },
    {
      "cell_type": "markdown",
      "source": [
        "GridSearchCV for the RandomForestRegressor"
      ],
      "metadata": {
        "id": "sbhaJtAgPj3Z"
      }
    },
    {
      "cell_type": "code",
      "source": [
        "# Define the model\n",
        "model = RandomForestRegressor()\n",
        "\n",
        "\n",
        "\n",
        "# Define the hyperparameter grid\n",
        "param_grid = {\n",
        "    'n_estimators': [100, 200, 500],\n",
        "    'max_depth': [None, 5, 10],\n",
        "    'min_samples_split': [2, 5, 10],\n",
        "    'min_samples_leaf': [1, 2, 4]\n",
        "}\n",
        "\n",
        "\n",
        "\n",
        "# Perform grid search with cross-validation\n",
        "grid_search = GridSearchCV(model, param_grid, cv=5)\n",
        "grid_search.fit(X_train, y_train)\n",
        "\n",
        "\n",
        "\n",
        "# Get the best model and its hyperparameters\n",
        "best_model = grid_search.best_estimator_\n",
        "best_params = grid_search.best_params_\n",
        "\n",
        "\n",
        "\n",
        "# Evaluate the best model\n",
        "y_pred = best_model.predict(X_test)\n",
        "\n",
        "\n",
        "r2 = r2_score(y_test, y_pred)\n",
        "mse = mean_squared_error(y_test, y_pred)\n",
        "mae = mean_absolute_error(y_test, y_pred)\n",
        "rmse = np.sqrt(mse)\n",
        "\n",
        "\n",
        "\n",
        "print(f\"Best Model: {best_model}\")\n",
        "print(f\"Best Hyperparameters: {best_params}\")\n",
        "print(f\"R^2: {r2:.4f}\")\n",
        "print(f\"MSE: {mse:.4f}\")\n",
        "print(f\"RMSE: {rmse}\")\n",
        "print(f\"MAE: {mae}\")"
      ],
      "metadata": {
        "colab": {
          "base_uri": "https://localhost:8080/"
        },
        "id": "4LgdWyBEOc-2",
        "outputId": "ff7d1d4f-60fa-420b-9d86-0459b63e589a"
      },
      "execution_count": 26,
      "outputs": [
        {
          "output_type": "stream",
          "name": "stdout",
          "text": [
            "Best Model: RandomForestRegressor(min_samples_leaf=4, n_estimators=500)\n",
            "R^2: 0.9621\n",
            "MSE: 977.7185\n",
            "RMSE: 31.26849095789786\n",
            "MAE: 8.888231369394992\n"
          ]
        }
      ]
    },
    {
      "cell_type": "markdown",
      "source": [
        "RandomizedSearchCV for the DecisionTreeRegressor"
      ],
      "metadata": {
        "id": "652P4nztPRMo"
      }
    },
    {
      "cell_type": "code",
      "source": [
        "# Define the model\n",
        "decision_tree_model = DecisionTreeRegressor()\n",
        "\n",
        "\n",
        "# Define the hyperparameter grid for DecisionTreeRegressor\n",
        "decision_tree_param_dist = {\n",
        "    'max_depth': [None, 5, 10, 15],\n",
        "    'min_samples_split': [2, 5, 10],\n",
        "    'min_samples_leaf': [1, 2, 4]\n",
        "}\n",
        "\n",
        "\n",
        "# Perform randomized search with cross-validation for DecisionTreeRegressor\n",
        "decision_tree_random_search = RandomizedSearchCV(decision_tree_model,\n",
        "                                                 decision_tree_param_dist,\n",
        "                                                 n_iter=10, cv=5,\n",
        "                                                 random_state=42)\n",
        "\n",
        "decision_tree_random_search.fit(X_train, y_train)\n",
        "\n",
        "\n",
        "# Get the best DecisionTreeRegressor model and its hyperparameters\n",
        "best_decision_tree_model_random = decision_tree_random_search.best_estimator_\n",
        "best_decision_tree_params_random = decision_tree_random_search.best_params_\n",
        "\n",
        "\n",
        "# Evaluate the best DecisionTreeRegressor model\n",
        "y_decision_tree_pred_random = best_decision_tree_model_random.predict(X_test)\n",
        "\n",
        "\n",
        "\n",
        "decision_tree_r2_random = r2_score(y_test, y_decision_tree_pred_random)\n",
        "decision_tree_mse_random = mean_squared_error(y_test, y_decision_tree_pred_random)\n",
        "decision_tree_mae_random = mean_absolute_error(y_test, y_decision_tree_pred_random)\n",
        "decision_tree_rmse_random = np.sqrt(decision_tree_mse_random)\n",
        "\n",
        "\n",
        "\n",
        "print(\"Best Model (RandomizedSearchCV): Decision Tree Regressor\")\n",
        "print(f\"Best Hyperparameters: {best_decision_tree_params_random}\")\n",
        "print(f\"R^2: {decision_tree_r2_random:.4f}\")\n",
        "print(f\"MSE: {decision_tree_mse_random:.4f}\")\n",
        "print(f\"RMSE: {decision_tree_rmse_random}\")\n",
        "print(f\"MAE: {decision_tree_mae_random}\")\n",
        "\n"
      ],
      "metadata": {
        "colab": {
          "base_uri": "https://localhost:8080/"
        },
        "id": "7aMG9iNnNrKz",
        "outputId": "dc47158e-f1d6-444d-810b-9f58008aecf3"
      },
      "execution_count": 27,
      "outputs": [
        {
          "output_type": "stream",
          "name": "stdout",
          "text": [
            "Best Model (RandomizedSearchCV): Decision Tree Regressor\n",
            "Best Hyperparameters: {'min_samples_split': 10, 'min_samples_leaf': 4, 'max_depth': 15}\n",
            "R^2: 0.9635\n",
            "MSE: 940.9392\n",
            "RMSE: 30.674732691976008\n",
            "MAE: 8.983464010151488\n"
          ]
        }
      ]
    },
    {
      "cell_type": "markdown",
      "source": [
        "Cross-Validation for the Gradient Boosting Regressor"
      ],
      "metadata": {
        "id": "1-rGfsm7bq_l"
      }
    },
    {
      "cell_type": "code",
      "source": [
        "# cross-validation\n",
        "{'learning_rate': 0.1, 'max_depth': 7, 'min_samples_leaf': 2,\n",
        " 'min_samples_split': 10, 'n_estimators': 100}\n",
        "\n",
        "from sklearn.model_selection import cross_val_score\n",
        "\n",
        "\n",
        "gb = GradientBoostingRegressor(max_depth=7, learning_rate=0.1,\n",
        "                               min_samples_leaf=2,\n",
        "                               min_samples_split=10,\n",
        "                               n_estimators=100,\n",
        "                               subsample=0.8)\n",
        "\n",
        "scores = cross_val_score(gb, X_train, y_train, cv=5, scoring='r2')\n",
        "\n",
        "\n",
        "print(\"Cross-validation R^2 scores:\", scores)\n",
        "print(\"Average R^2:\", scores.mean())\n"
      ],
      "metadata": {
        "colab": {
          "base_uri": "https://localhost:8080/"
        },
        "id": "JXrKlfFlZLSv",
        "outputId": "ba1c6c94-e507-490d-a909-d77614377400"
      },
      "execution_count": 29,
      "outputs": [
        {
          "output_type": "stream",
          "name": "stdout",
          "text": [
            "Cross-validation R^2 scores: [0.94656828 0.95343885 0.95977012 0.95725039 0.94982451]\n",
            "Average R^2: 0.9533704318181337\n"
          ]
        }
      ]
    },
    {
      "cell_type": "markdown",
      "source": [
        "## Trade-off for Gradient Boosting Regressor\n",
        "### Complexity vs. Accuracy:\n",
        "- Increasing the number of estimators (n_estimators) generally improves accuracy but increases computational complexity.\n",
        "- Higher maximum depth (max_depth) leads to more complex decision trees, potentially improving accuracy but also increasing the risk of overfitting.\n",
        "\n",
        "#### Bias vs. Variance:\n",
        "- Larger values of min_samples_split and min_samples_leaf can reduce variance by preventing overfitting, but may introduce bias if set too high.\n",
        "- Higher learning_rate can lead to faster learning and reduced bias, but may result in overfitting if set too high.\n",
        "\n",
        "#### Regularization vs. Flexibility:\n",
        "- Increasing the regularization parameter (subsample) can reduce overfitting by introducing randomness, but may limit the model's flexibility.\n",
        "- Smaller values of max_depth and min_samples_leaf allow for more flexible decision boundaries, potentially improving accuracy but increasing the risk of overfitting.\n",
        "\n",
        "#### Computational Cost:\n",
        "- Larger datasets and higher values for hyperparameters like n_estimators and max_depth can significantly increase training time and computational resources.\n",
        "\n",
        "#### Choosing the Optimal Hyperparameters:\n",
        "- Use cross-validation to evaluate different hyperparameter combinations and select the one that balances accuracy and complexity.\n",
        "- Consider the trade-offs between bias, variance, and computational cost when tuning hyperparameters.\n",
        "- Monitor for overfitting or underfitting by analyzing metrics like training and validation R^2 scores."
      ],
      "metadata": {
        "id": "FzMWc7vGpzlZ"
      }
    },
    {
      "cell_type": "markdown",
      "source": [
        "###1. Which ML model did you choose from the above created models as your final prediction model and why?"
      ],
      "metadata": {
        "id": "3Rzxlm2-G_lh"
      }
    },
    {
      "cell_type": "markdown",
      "source": [
        "The **Gradient Boosting Regressor** was selected as the final prediction model for several reasons\n",
        "\n",
        "---\n",
        "\n",
        "**Performance Metrics:**\n",
        "\n",
        "* The Gradient Boosting Regressor consistently demonstrated superior performance across various evaluation metrics, including R^2, MSE, RMSE, and MAE, when compared to other models like Random Forest and Decision Tree.\n",
        "\n",
        "\n",
        "* Best Model: Gradient Boosting Regressor\n",
        "\n",
        "  Best Hyperparameters: {'learning_rate': 0.1, 'max_depth': 7, 'min_samples_leaf': 2, 'min_samples_split': 10, 'n_estimators': 100}\n",
        "\n",
        "  R^2: 0.9636\n",
        "\n",
        "  MSE: 937.4970\n",
        "\n",
        "  RMSE: 30.61857210739251\n",
        "\n",
        "  MAE: 12.259648314735092\n",
        "\n",
        "\n",
        "\n",
        "\n",
        "---\n",
        "\n",
        "**Cross-Validation:**\n",
        "\n",
        "* The model's performance was assessed through cross-validation, providing a comprehensive evaluation across multiple folds. The consistently high R^2 scores across different folds indicate that the model generalizes well to unseen data.\n",
        "\n",
        "* Cross-validation R^2 scores: [0.94656828 0.95343885 0.95977012 0.95725039 0.94982451]\n",
        "\n",
        "* Average R^2: 0.9533704318181337\n",
        "\n",
        "---\n",
        "**Hyperparameter Tuning:**\n",
        "\n",
        "* The model underwent a thorough hyperparameter tuning process using GridSearchCV, resulting in optimal hyperparameters that contributed to its high performance.\n",
        "\n",
        "---\n",
        "**Consideration of Trade-offs:**\n",
        "\n",
        "* While Gradient Boosting may be computationally more expensive, the trade-off was considered reasonable given its significantly improved predictive performance.\n",
        "\n",
        "\n",
        "---\n",
        "\n",
        "**Conclusion**:\n",
        "\n",
        "In summary, the Gradient Boosting Regressor was selected as the final prediction model due to its consistent and superior performance, robustness, and ability to capture complex relationships within the dataset. The trade-offs in terms of computational resources were deemed acceptable in light of the significant gains in predictive accuracy.\n"
      ],
      "metadata": {
        "id": "6ksF5Q1LKTVm"
      }
    },
    {
      "cell_type": "markdown",
      "source": [
        "---\n",
        "\n",
        "---"
      ],
      "metadata": {
        "id": "fTSGL5eUHEzR"
      }
    },
    {
      "cell_type": "markdown",
      "source": [
        "##### Which hyperparameter optimization technique have you used and why?"
      ],
      "metadata": {
        "id": "PiV4Ypx8fxKe"
      }
    },
    {
      "cell_type": "markdown",
      "source": [
        "We've used both Grid Search and Randomized Search for hyperparameter optimization\n",
        "\n",
        "Here's a brief overview of each technique and potential reasons for their use\n",
        "\n",
        "---\n",
        "\n",
        "**Grid Search**:\n",
        "\n",
        "* How it works:\n",
        "\n",
        "  Grid Search exhaustively searches through a predefined set of hyperparameter values, evaluating the model performance for each combination.\n",
        "\n",
        "* Why use it:\n",
        "\n",
        "  **Comprehensive exploration**:\n",
        "  \n",
        "  Grid Search is suitable when we want to perform an exhaustive search over a specific range of hyperparameter values.\n",
        "\n",
        "  **Limited hyperparameter space**:\n",
        "\n",
        "  It works well when the hyperparameter space is relatively small, and we want to evaluate every combination.\n",
        "\n",
        "\n",
        "**Randomized Search**:\n",
        "\n",
        "* How it works:\n",
        "\n",
        "  Randomized Search randomly samples a given number of combinations from the hyperparameter space.\n",
        "\n",
        "* Why use it:\n",
        "\n",
        "  **Efficiency**:\n",
        "  \n",
        "  Randomized Search can be more efficient than Grid Search, especially when the hyperparameter space is large. It allows for a more focused search on promising areas.\n",
        "\n",
        "  **Resource constraints**:\n",
        "\n",
        "  When computational resources or time are limited, Randomized Search provides a good compromise between exploration and efficiency."
      ],
      "metadata": {
        "id": "negyGRa7fxKf"
      }
    },
    {
      "cell_type": "markdown",
      "source": [
        "##### Have you seen any improvement? Note down the improvement with updates Evaluation metric Score Chart."
      ],
      "metadata": {
        "id": "TfvqoZmBfxKf"
      }
    },
    {
      "cell_type": "markdown",
      "source": [
        "The hyperparameter optimization technique, in this case, GridSearchCV, has shown a significant improvement in the performance of the Gradient Boosting Regressor model. Let's compare the evaluation metrics before and after hyperparameter tuning\n",
        "\n",
        "---\n",
        "Before Hyperparameter Tuning:\n",
        "\n",
        "Model: **Gradient Boosting Regressor**\n",
        "\n",
        "\n",
        "R^2: 0.8172\n",
        "\n",
        "\n",
        "MSE: 4711.6236\n",
        "\n",
        "RMSE: 68.6413\n",
        "\n",
        "MAE: 53.5078\n",
        "\n",
        "---\n",
        "After Hyperparameter Tuning:\n",
        "\n",
        "Best Model: **Gradient Boosting Regressor**\n",
        "\n",
        "Best Hyperparameters: {'learning_rate': 0.1, 'max_depth': 7, 'min_samples_leaf': 2, 'min_samples_split': 10, 'n_estimators': 100}\n",
        "\n",
        "R^2: 0.9636\n",
        "\n",
        "MSE: 937.4970\n",
        "\n",
        "RMSE: 30.6186\n",
        "\n",
        "MAE: 12.2596\n",
        "\n",
        "---\n",
        "\n",
        "**Here's a summary of the improvements**:\n",
        "\n",
        "R^2 Score: Improved from 0.8172 to 0.9636. This indicates a substantial enhancement in the model's ability to explain the variance in the target variable.\n",
        "\n",
        "MSE (Mean Squared Error): Reduced from 4711.6236 to 937.4970. A lower MSE signifies better accuracy and a reduction in prediction errors.\n",
        "\n",
        "RMSE (Root Mean Squared Error): Decreased from 68.6413 to 30.6186. This metric measures the average magnitude of errors and has significantly reduced after hyperparameter tuning.\n",
        "\n",
        "MAE (Mean Absolute Error): Reduced from 53.5078 to 12.2596. A lower MAE indicates better accuracy in predicting the absolute values of the target variable.\n",
        "\n",
        "---\n",
        "Overall\n",
        "\n",
        "the hyperparameter optimization technique has led to a considerable improvement in the model's performance, as evidenced by the enhanced R^2 score and reduced error metrics (MSE, RMSE, and MAE). The tuned model with optimized hyperparameters demonstrates better predictive capabilities and generalization on the test set."
      ],
      "metadata": {
        "id": "OaLui8CcfxKf"
      }
    },
    {
      "cell_type": "markdown",
      "source": [
        "### 2. Which Evaluation metrics did you consider for a positive business impact and why?"
      ],
      "metadata": {
        "id": "h_CCil-SKHpo"
      }
    },
    {
      "cell_type": "markdown",
      "source": [
        "In the context of regression models predicting restaurant costs, several evaluation metrics were considered to assess the model's performance. Here are the primary metrics and their relevance:\n",
        "\n",
        "---\n",
        "\n",
        "**Mean Squared Error** (MSE):\n",
        "\n",
        "* **Reason**:\n",
        "\n",
        "  MSE measures the average squared difference between predicted and actual values. It penalizes larger errors more heavily. For business impact, MSE provides a comprehensive view of the overall model accuracy.\n",
        "\n",
        "\n",
        "**Mean Absolute Error** (MAE):\n",
        "\n",
        "* Reason:\n",
        "\n",
        "  MAE represents the average absolute difference between predicted and actual values. It provides a straightforward interpretation of the average magnitude of errors, making it easier to communicate to stakeholders.\n",
        "\n",
        "**R-squared** (R²):\n",
        "\n",
        "* Reason:\n",
        "\n",
        "  R-squared measures the proportion of the variance in the dependent variable (restaurant cost) that is predictable from the independent variables (features). A higher R-squared indicates a better fit of the model to the data, reflecting positive business impact by capturing more variability.\n",
        "\n",
        "\n",
        "**Root Mean Squared Error** (RMSE):\n",
        "\n",
        "* Reason:\n",
        "\n",
        "  RMSE is the square root of MSE and provides an interpretable measure in the original units of the response variable (cost). It is beneficial for understanding the scale of prediction errors.\n",
        "\n",
        "---\n",
        "Conclution\n",
        "\n",
        "The choice of these metrics aims to balance various aspects of model performance, including accuracy, interpretability, and the ability to communicate results to stakeholders. The goal is to achieve the best predictive accuracy (lower MSE and RMSE) while ensuring the results are easily understandable (MAE) and capturing a significant portion of the variance (R²)."
      ],
      "metadata": {
        "id": "jHVz9hHDKFms"
      }
    },
    {
      "cell_type": "markdown",
      "source": [
        "## The Gradient Boosting Regressor as our final model and determined the optimal hyperparameters, we can proceed to build the final model"
      ],
      "metadata": {
        "id": "sjkE5udUuQJF"
      }
    },
    {
      "cell_type": "markdown",
      "source": [
        "Initialize the Gradient Boosting Regressor with Optimal Hyperparameters:"
      ],
      "metadata": {
        "id": "Cdwl7zGtuZhQ"
      }
    },
    {
      "cell_type": "code",
      "source": [
        "final_model = GradientBoostingRegressor(\n",
        "    learning_rate=0.1,\n",
        "    max_depth=7,\n",
        "    min_samples_leaf=2,\n",
        "    min_samples_split=10,\n",
        "    n_estimators=100,\n",
        "    subsample=0.8\n",
        ")"
      ],
      "metadata": {
        "id": "GmHcSgRytl_l"
      },
      "execution_count": 31,
      "outputs": []
    },
    {
      "cell_type": "markdown",
      "source": [
        "Train the Final Model on the Entire Training Data:"
      ],
      "metadata": {
        "id": "bJwDqyC_vNYg"
      }
    },
    {
      "cell_type": "code",
      "source": [
        "final_model.fit(X_train, y_train)"
      ],
      "metadata": {
        "colab": {
          "base_uri": "https://localhost:8080/",
          "height": 92
        },
        "id": "otVbsGp5vQgT",
        "outputId": "f2b90ec8-0548-40a9-de5b-26f8d5201015"
      },
      "execution_count": 32,
      "outputs": [
        {
          "output_type": "execute_result",
          "data": {
            "text/plain": [
              "GradientBoostingRegressor(max_depth=7, min_samples_leaf=2, min_samples_split=10,\n",
              "                          subsample=0.8)"
            ],
            "text/html": [
              "<style>#sk-container-id-1 {color: black;background-color: white;}#sk-container-id-1 pre{padding: 0;}#sk-container-id-1 div.sk-toggleable {background-color: white;}#sk-container-id-1 label.sk-toggleable__label {cursor: pointer;display: block;width: 100%;margin-bottom: 0;padding: 0.3em;box-sizing: border-box;text-align: center;}#sk-container-id-1 label.sk-toggleable__label-arrow:before {content: \"▸\";float: left;margin-right: 0.25em;color: #696969;}#sk-container-id-1 label.sk-toggleable__label-arrow:hover:before {color: black;}#sk-container-id-1 div.sk-estimator:hover label.sk-toggleable__label-arrow:before {color: black;}#sk-container-id-1 div.sk-toggleable__content {max-height: 0;max-width: 0;overflow: hidden;text-align: left;background-color: #f0f8ff;}#sk-container-id-1 div.sk-toggleable__content pre {margin: 0.2em;color: black;border-radius: 0.25em;background-color: #f0f8ff;}#sk-container-id-1 input.sk-toggleable__control:checked~div.sk-toggleable__content {max-height: 200px;max-width: 100%;overflow: auto;}#sk-container-id-1 input.sk-toggleable__control:checked~label.sk-toggleable__label-arrow:before {content: \"▾\";}#sk-container-id-1 div.sk-estimator input.sk-toggleable__control:checked~label.sk-toggleable__label {background-color: #d4ebff;}#sk-container-id-1 div.sk-label input.sk-toggleable__control:checked~label.sk-toggleable__label {background-color: #d4ebff;}#sk-container-id-1 input.sk-hidden--visually {border: 0;clip: rect(1px 1px 1px 1px);clip: rect(1px, 1px, 1px, 1px);height: 1px;margin: -1px;overflow: hidden;padding: 0;position: absolute;width: 1px;}#sk-container-id-1 div.sk-estimator {font-family: monospace;background-color: #f0f8ff;border: 1px dotted black;border-radius: 0.25em;box-sizing: border-box;margin-bottom: 0.5em;}#sk-container-id-1 div.sk-estimator:hover {background-color: #d4ebff;}#sk-container-id-1 div.sk-parallel-item::after {content: \"\";width: 100%;border-bottom: 1px solid gray;flex-grow: 1;}#sk-container-id-1 div.sk-label:hover label.sk-toggleable__label {background-color: #d4ebff;}#sk-container-id-1 div.sk-serial::before {content: \"\";position: absolute;border-left: 1px solid gray;box-sizing: border-box;top: 0;bottom: 0;left: 50%;z-index: 0;}#sk-container-id-1 div.sk-serial {display: flex;flex-direction: column;align-items: center;background-color: white;padding-right: 0.2em;padding-left: 0.2em;position: relative;}#sk-container-id-1 div.sk-item {position: relative;z-index: 1;}#sk-container-id-1 div.sk-parallel {display: flex;align-items: stretch;justify-content: center;background-color: white;position: relative;}#sk-container-id-1 div.sk-item::before, #sk-container-id-1 div.sk-parallel-item::before {content: \"\";position: absolute;border-left: 1px solid gray;box-sizing: border-box;top: 0;bottom: 0;left: 50%;z-index: -1;}#sk-container-id-1 div.sk-parallel-item {display: flex;flex-direction: column;z-index: 1;position: relative;background-color: white;}#sk-container-id-1 div.sk-parallel-item:first-child::after {align-self: flex-end;width: 50%;}#sk-container-id-1 div.sk-parallel-item:last-child::after {align-self: flex-start;width: 50%;}#sk-container-id-1 div.sk-parallel-item:only-child::after {width: 0;}#sk-container-id-1 div.sk-dashed-wrapped {border: 1px dashed gray;margin: 0 0.4em 0.5em 0.4em;box-sizing: border-box;padding-bottom: 0.4em;background-color: white;}#sk-container-id-1 div.sk-label label {font-family: monospace;font-weight: bold;display: inline-block;line-height: 1.2em;}#sk-container-id-1 div.sk-label-container {text-align: center;}#sk-container-id-1 div.sk-container {/* jupyter's `normalize.less` sets `[hidden] { display: none; }` but bootstrap.min.css set `[hidden] { display: none !important; }` so we also need the `!important` here to be able to override the default hidden behavior on the sphinx rendered scikit-learn.org. See: https://github.com/scikit-learn/scikit-learn/issues/21755 */display: inline-block !important;position: relative;}#sk-container-id-1 div.sk-text-repr-fallback {display: none;}</style><div id=\"sk-container-id-1\" class=\"sk-top-container\"><div class=\"sk-text-repr-fallback\"><pre>GradientBoostingRegressor(max_depth=7, min_samples_leaf=2, min_samples_split=10,\n",
              "                          subsample=0.8)</pre><b>In a Jupyter environment, please rerun this cell to show the HTML representation or trust the notebook. <br />On GitHub, the HTML representation is unable to render, please try loading this page with nbviewer.org.</b></div><div class=\"sk-container\" hidden><div class=\"sk-item\"><div class=\"sk-estimator sk-toggleable\"><input class=\"sk-toggleable__control sk-hidden--visually\" id=\"sk-estimator-id-1\" type=\"checkbox\" checked><label for=\"sk-estimator-id-1\" class=\"sk-toggleable__label sk-toggleable__label-arrow\">GradientBoostingRegressor</label><div class=\"sk-toggleable__content\"><pre>GradientBoostingRegressor(max_depth=7, min_samples_leaf=2, min_samples_split=10,\n",
              "                          subsample=0.8)</pre></div></div></div></div></div>"
            ]
          },
          "metadata": {},
          "execution_count": 32
        }
      ]
    },
    {
      "cell_type": "markdown",
      "source": [
        "Evaluate on the Test Set\n",
        "* Assess the final model's performance on the test set to ensure its generalization ability."
      ],
      "metadata": {
        "id": "CrLgDd-XvX7v"
      }
    },
    {
      "cell_type": "code",
      "source": [
        "y_pred_final = final_model.predict(X_test)\n",
        "\n",
        "\n",
        "# Evaluate using metrics\n",
        "final_r2 = r2_score(y_test, y_pred_final)\n",
        "final_mse = mean_squared_error(y_test, y_pred_final)\n",
        "final_rmse = np.sqrt(final_mse)\n",
        "final_mae = mean_absolute_error(y_test, y_pred_final)\n",
        "\n",
        "\n",
        "\n",
        "print(f\"Final Model Metrics:\")\n",
        "print(f\"R^2: {final_r2:.4f}\")\n",
        "print(f\"MSE: {final_mse:.4f}\")\n",
        "print(f\"RMSE: {final_rmse}\")\n",
        "print(f\"MAE: {final_mae}\")\n"
      ],
      "metadata": {
        "colab": {
          "base_uri": "https://localhost:8080/"
        },
        "id": "e6XMpU24vkdz",
        "outputId": "a6c0abe2-172d-42bb-ad51-abcf3f4cf397"
      },
      "execution_count": 33,
      "outputs": [
        {
          "output_type": "stream",
          "name": "stdout",
          "text": [
            "Final Model Metrics:\n",
            "R^2: 0.9630\n",
            "MSE: 953.2573\n",
            "RMSE: 30.87486486859742\n",
            "MAE: 12.962467204051514\n"
          ]
        }
      ]
    },
    {
      "cell_type": "markdown",
      "source": [
        "Feature Importance"
      ],
      "metadata": {
        "id": "hWolJlrPwq3W"
      }
    },
    {
      "cell_type": "code",
      "source": [
        "feature_importance = final_model.feature_importances_\n",
        "\n",
        "# Associate feature names\n",
        "feature_importance_df = pd.DataFrame({'Feature': X_train.columns,\n",
        "                                      'Importance': feature_importance})\n",
        "\n",
        "\n",
        "feature_importance_df = feature_importance_df.sort_values(by='Importance',\n",
        "                                                          ascending=False)\n",
        "print(\"Feature Importance:\")\n",
        "print(feature_importance_df)\n"
      ],
      "metadata": {
        "colab": {
          "base_uri": "https://localhost:8080/"
        },
        "id": "c9jqrdr2wwJJ",
        "outputId": "c821c0f8-6a85-48fc-d250-c8b6db08be36"
      },
      "execution_count": 34,
      "outputs": [
        {
          "output_type": "stream",
          "name": "stdout",
          "text": [
            "Feature Importance:\n",
            "         Feature  Importance\n",
            "4       Cuisines    0.971807\n",
            "3          score    0.020749\n",
            "2  No of Reviews    0.005134\n",
            "0         Rating    0.001727\n",
            "1       Pictures    0.000583\n"
          ]
        }
      ]
    },
    {
      "cell_type": "markdown",
      "source": [
        "Answer Here."
      ],
      "metadata": {
        "id": "YnvVTiIxBL-C"
      }
    },
    {
      "cell_type": "markdown",
      "source": [
        "###Save the best performing ml model joblib file format for deployment process.\n"
      ],
      "metadata": {
        "id": "KH5McJBi2d8v"
      }
    },
    {
      "cell_type": "code",
      "source": [
        "# Save the File\n",
        "import joblib\n",
        "\n",
        "# Save the model\n",
        "joblib.dump(final_model, 'final_model_gb_regressor.pkl')"
      ],
      "metadata": {
        "id": "bQIANRl32f4J",
        "colab": {
          "base_uri": "https://localhost:8080/"
        },
        "outputId": "1679ec5e-97c0-4ffa-b55f-05ecd06cf588"
      },
      "execution_count": 35,
      "outputs": [
        {
          "output_type": "execute_result",
          "data": {
            "text/plain": [
              "['final_model_gb_regressor.pkl']"
            ]
          },
          "metadata": {},
          "execution_count": 35
        }
      ]
    },
    {
      "cell_type": "markdown",
      "source": [
        "##Again Load the saved model file and try to predict unseen data for a sanity check.\n"
      ],
      "metadata": {
        "id": "iW_Lq9qf2h6X"
      }
    },
    {
      "cell_type": "markdown",
      "source": [
        "## Load the File and predict unseen data."
      ],
      "metadata": {
        "id": "MlyatsPvBU1E"
      }
    },
    {
      "cell_type": "code",
      "source": [
        "# Generate dummy data with specified features\n",
        "num_samples = 5\n",
        "dummy_data = pd.DataFrame({\n",
        "    'Rating': np.random.uniform(3.0, 5.0, num_samples),\n",
        "    'Pictures': np.random.randint(1, 10, num_samples),\n",
        "    'No of Reviews': np.random.randint(10, 100, num_samples),\n",
        "    'score': np.random.uniform(0.0, 1.0, num_samples),\n",
        "    'Cuisines': np.random.choice(['Chinese, Continental, Kebab, European, South Indian, North Indian',\n",
        "                                  'Arabian, North Indian, Chinese',\n",
        "                                  'Bakery, Desserts, Fast Food',\n",
        "                                  'Cafe, Fast Food, Beverages',\n",
        "                                  'Chinese, Asian, Momos',\n",
        "                                  'Modern Indian, Asian, Continental, Italian'], num_samples)\n",
        "})"
      ],
      "metadata": {
        "id": "iRWxWQa_BN-n"
      },
      "execution_count": 53,
      "outputs": []
    },
    {
      "cell_type": "code",
      "source": [
        "\n",
        "# Load the saved model\n",
        "loaded_model = joblib.load('final_model_gb_regressor.pkl')\n",
        "\n",
        "\n",
        "# Create a LabelEncoder\n",
        "le = LabelEncoder()\n",
        "\n",
        "\n",
        "# Define the order of features\n",
        "training_feature_order = ['Rating', 'Pictures', 'No of Reviews', 'score', 'Cuisines']\n",
        "\n",
        "\n",
        "dummy_data['Cuisines'] = le.fit_transform(dummy_data['Cuisines'])\n",
        "\n",
        "# Rearrange columns\n",
        "dummy_data = dummy_data[training_feature_order]\n",
        "\n",
        "\n",
        "# make predictions\n",
        "predictions_dummy_data = loaded_model.predict(dummy_data)\n",
        "\n",
        "# DataFrame\n",
        "predictions_df_dummy_data = pd.DataFrame({'Predicted_Cost': predictions_dummy_data})\n",
        "\n",
        "print(\"Dummy Data:\")\n",
        "print(dummy_data)\n",
        "print(\"\\nPredictions for Dummy Data:\")\n",
        "print(predictions_df_dummy_data)\n"
      ],
      "metadata": {
        "id": "oEXk9ydD2nVC",
        "colab": {
          "base_uri": "https://localhost:8080/"
        },
        "outputId": "81d56b2b-7bd0-4dc5-8a05-b5f1a2bb048c"
      },
      "execution_count": 54,
      "outputs": [
        {
          "output_type": "stream",
          "name": "stdout",
          "text": [
            "Dummy Data:\n",
            "     Rating  Pictures  No of Reviews     score  Cuisines\n",
            "0  3.458684         6             81  0.756641         1\n",
            "1  3.771328         2             80  0.622579         2\n",
            "2  3.716800         6             71  0.066274         0\n",
            "3  3.220787         3             34  0.536131         3\n",
            "4  4.278293         5             71  0.025372         2\n",
            "\n",
            "Predictions for Dummy Data:\n",
            "   Predicted_Cost\n",
            "0      400.870493\n",
            "1      398.997150\n",
            "2      408.027559\n",
            "3      399.156475\n",
            "4      427.840915\n"
          ]
        }
      ]
    },
    {
      "cell_type": "markdown",
      "source": [
        "### Future Work"
      ],
      "metadata": {
        "id": "lrovYT3oNvDK"
      }
    },
    {
      "cell_type": "markdown",
      "source": [
        "In future endeavors, I plan to extend the utility of my regression model by deploying it within a Streamlit application. This user-friendly platform will empower users to input key parameters, such as `Rating`, `Pictures`, `No of Reviews`, `score`, and `Cuisines`, facilitating a seamless estimation of `costs` for their businesses. This interactive application aims to provide an accessible and insightful tool, showcasing the practical application of the developed model. I am enthusiastic about creating a dynamic interface that enhances user engagement and contributes to a broader understanding of restaurant costs in the context of diverse features."
      ],
      "metadata": {
        "id": "yi-hH_AdOzpz"
      }
    },
    {
      "cell_type": "markdown",
      "source": [
        "### ***Congrats! Our model is successfully created and ready for deployment on a live server for a real user interaction !!!***"
      ],
      "metadata": {
        "id": "-Kee-DAl2viO"
      }
    },
    {
      "cell_type": "markdown",
      "source": [
        "# **Conclusion**"
      ],
      "metadata": {
        "id": "gCX9965dhzqZ"
      }
    },
    {
      "cell_type": "markdown",
      "source": [
        "Here we conclude our work on the restaurant cost prediction project. We have successfully trained and evaluated various machine learning models using Python, Google Colaboratory.\n",
        "\n",
        "We performed data preprocessing, feature engineering, hyperparameter tuning, and model selection to achieve a robust model for predicting restaurant costs based on various features.\n",
        "\n",
        "The final Gradient Boosting Regressor model with optimized hyperparameters demonstrated excellent performance, as evidenced by the evaluation metrics. We also saved the trained model in a joblib file format for future deployment and real-world use.\n",
        "\n",
        "This project showcased the capabilities of applying machine learning techniques to solve a real-world problem. By leveraging data and building a predictive model, we gained valuable insights into factors influencing restaurant costs.\n",
        "\n",
        "We encourage further exploration and improvement of the model by incorporating additional data, experimenting with different algorithms, and refining hyperparameters. The goal is to continuously enhance the model's accuracy andgeneralizability for broader applications in the restaurant industry.\n"
      ],
      "metadata": {
        "id": "Fjb1IsQkh3yE"
      }
    },
    {
      "cell_type": "markdown",
      "source": [
        "### ***Hurrah! We have successfully completed your Machine Learning Capstone Project !!!***"
      ],
      "metadata": {
        "id": "gIfDvo9L0UH2"
      }
    }
  ]
}